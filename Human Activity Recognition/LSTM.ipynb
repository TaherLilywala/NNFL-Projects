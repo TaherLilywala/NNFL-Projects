{
  "nbformat": 4,
  "nbformat_minor": 0,
  "metadata": {
    "kernelspec": {
      "name": "python3",
      "display_name": "Python 3",
      "language": "python"
    },
    "language_info": {
      "name": "python",
      "version": "3.7.9",
      "mimetype": "text/x-python",
      "codemirror_mode": {
        "name": "ipython",
        "version": 3
      },
      "pygments_lexer": "ipython3",
      "nbconvert_exporter": "python",
      "file_extension": ".py"
    },
    "colab": {
      "name": "LSTM.ipynb",
      "provenance": [],
      "include_colab_link": true
    }
  },
  "cells": [
    {
      "cell_type": "markdown",
      "metadata": {
        "id": "view-in-github",
        "colab_type": "text"
      },
      "source": [
        "<a href=\"https://colab.research.google.com/github/TaherLilywala/NNFL-Projects/blob/main/Human%20Activity%20Recognition/LSTM.ipynb\" target=\"_parent\"><img src=\"https://colab.research.google.com/assets/colab-badge.svg\" alt=\"Open In Colab\"/></a>"
      ]
    },
    {
      "cell_type": "markdown",
      "metadata": {
        "id": "zYDFlHksPLjL"
      },
      "source": [
        "##Initial"
      ]
    },
    {
      "cell_type": "code",
      "metadata": {
        "id": "PfusujzfBN0t",
        "trusted": true
      },
      "source": [
        "import numpy as np\n",
        "import pandas as pd\n",
        "import keras\n",
        "import tensorflow as tf\n",
        "\n",
        "\n",
        "import seaborn as sns\n",
        "import matplotlib.pyplot as plt\n",
        "from sklearn.manifold import TSNE\n",
        "import warnings\n",
        "from datetime import datetime\n",
        "from sklearn.model_selection import GridSearchCV\n",
        "from sklearn.metrics import confusion_matrix\n",
        "from sklearn.metrics import accuracy_score\n",
        "from sklearn.linear_model import LogisticRegression\n",
        "from sklearn.svm import LinearSVC\n",
        "from sklearn.svm import SVC\n",
        "from sklearn.tree import DecisionTreeClassifier\n",
        "from sklearn.ensemble import RandomForestClassifier\n",
        "from sklearn.ensemble import GradientBoostingClassifier\n",
        "from keras.models import Sequential\n",
        "from keras.layers import LSTM\n",
        "from keras.layers.core import Dense, Dropout\n",
        "#from hyperopt import Trials, STATUS_OK, tpe\n",
        "#from hyperas import optim\n",
        "#from hyperas.distributions import choice, uniform\n",
        "\n",
        "import numpy as np # linear algebra\n",
        "import pandas as pd # data processing, CSV file I/O\n",
        "import keras\n",
        "\n",
        "from keras.utils import to_categorical\n",
        "from keras.callbacks import EarlyStopping, ReduceLROnPlateau\n",
        "from keras.models import Sequential\n",
        "from keras.layers import Dense, Dropout, Activation, Flatten\n",
        "from keras.layers import Conv2D, MaxPooling2D, BatchNormalization\n",
        "from keras.losses import categorical_crossentropy\n",
        "from sklearn.metrics import accuracy_score\n",
        "from keras.optimizers import Adam\n",
        "from keras.regularizers import l2\n",
        "from keras.preprocessing.image import ImageDataGenerator\n",
        "from sklearn.metrics import classification_report, confusion_matrix\n",
        "from sklearn.model_selection import train_test_split\n",
        "import matplotlib.pyplot as plt\n",
        "import seaborn as sns\n",
        "from sklearn.preprocessing import LabelEncoder, OneHotEncoder\n",
        "import os"
      ],
      "execution_count": null,
      "outputs": []
    },
    {
      "cell_type": "code",
      "metadata": {
        "id": "BStANcW8D_E_",
        "trusted": true
      },
      "source": [
        "data = pd.read_csv('/kaggle/input/human-activity-recognition-with-rnn/train.csv')\n",
        "#check data shape"
      ],
      "execution_count": null,
      "outputs": []
    },
    {
      "cell_type": "code",
      "metadata": {
        "id": "ymU3pJjVERkI",
        "trusted": true,
        "outputId": "e65059b9-6a66-4d0e-b1d3-600ae69b028b"
      },
      "source": [
        "data.shape"
      ],
      "execution_count": null,
      "outputs": [
        {
          "output_type": "execute_result",
          "data": {
            "text/plain": [
              "(7352, 564)"
            ]
          },
          "metadata": {
            "tags": []
          },
          "execution_count": 251
        }
      ]
    },
    {
      "cell_type": "code",
      "metadata": {
        "id": "fA-rfEKvjQVs",
        "trusted": true,
        "outputId": "345f1183-e790-4bbf-bfb5-b163b6a742e8"
      },
      "source": [
        "data.head(10)"
      ],
      "execution_count": null,
      "outputs": [
        {
          "output_type": "execute_result",
          "data": {
            "text/plain": [
              "   id  tBodyAcc-mean()-X  tBodyAcc-mean()-Y  tBodyAcc-mean()-Z  \\\n",
              "0   0           0.288585          -0.020294          -0.132905   \n",
              "1   1           0.278419          -0.016411          -0.123520   \n",
              "2   2           0.279653          -0.019467          -0.113462   \n",
              "3   3           0.279174          -0.026201          -0.123283   \n",
              "4   4           0.276629          -0.016570          -0.115362   \n",
              "5   5           0.277199          -0.010098          -0.105137   \n",
              "6   6           0.279454          -0.019641          -0.110022   \n",
              "7   7           0.277432          -0.030488          -0.125360   \n",
              "8   8           0.277293          -0.021751          -0.120751   \n",
              "9   9           0.280586          -0.009960          -0.106065   \n",
              "\n",
              "   tBodyAcc-std()-X  tBodyAcc-std()-Y  tBodyAcc-std()-Z  tBodyAcc-mad()-X  \\\n",
              "0         -0.995279         -0.983111         -0.913526         -0.995112   \n",
              "1         -0.998245         -0.975300         -0.960322         -0.998807   \n",
              "2         -0.995380         -0.967187         -0.978944         -0.996520   \n",
              "3         -0.996091         -0.983403         -0.990675         -0.997099   \n",
              "4         -0.998139         -0.980817         -0.990482         -0.998321   \n",
              "5         -0.997335         -0.990487         -0.995420         -0.997627   \n",
              "6         -0.996921         -0.967186         -0.983118         -0.997003   \n",
              "7         -0.996559         -0.966728         -0.981585         -0.996485   \n",
              "8         -0.997328         -0.961245         -0.983672         -0.997596   \n",
              "9         -0.994803         -0.972758         -0.986244         -0.995405   \n",
              "\n",
              "   tBodyAcc-mad()-Y  tBodyAcc-mad()-Z  ...  fBodyBodyGyroJerkMag-kurtosis()  \\\n",
              "0         -0.983185         -0.923527  ...                        -0.710304   \n",
              "1         -0.974914         -0.957686  ...                        -0.861499   \n",
              "2         -0.963668         -0.977469  ...                        -0.760104   \n",
              "3         -0.982750         -0.989302  ...                        -0.482845   \n",
              "4         -0.979672         -0.990441  ...                        -0.699205   \n",
              "5         -0.990218         -0.995549  ...                        -0.844619   \n",
              "6         -0.966097         -0.983116  ...                        -0.564430   \n",
              "7         -0.966313         -0.982982  ...                        -0.421715   \n",
              "8         -0.957236         -0.984379  ...                        -0.572995   \n",
              "9         -0.973663         -0.985642  ...                         0.140452   \n",
              "\n",
              "   angle(tBodyAccMean,gravity)  angle(tBodyAccJerkMean),gravityMean)  \\\n",
              "0                    -0.112754                              0.030400   \n",
              "1                     0.053477                             -0.007435   \n",
              "2                    -0.118559                              0.177899   \n",
              "3                    -0.036788                             -0.012892   \n",
              "4                     0.123320                              0.122542   \n",
              "5                     0.082632                             -0.143439   \n",
              "6                    -0.212754                             -0.230622   \n",
              "7                    -0.020888                              0.593996   \n",
              "8                     0.012954                              0.080936   \n",
              "9                    -0.020590                             -0.127730   \n",
              "\n",
              "   angle(tBodyGyroMean,gravityMean)  angle(tBodyGyroJerkMean,gravityMean)  \\\n",
              "0                         -0.464761                             -0.018446   \n",
              "1                         -0.732626                              0.703511   \n",
              "2                          0.100699                              0.808529   \n",
              "3                          0.640011                             -0.485366   \n",
              "4                          0.693578                             -0.615971   \n",
              "5                          0.275041                             -0.368224   \n",
              "6                          0.014637                             -0.189512   \n",
              "7                         -0.561871                              0.467383   \n",
              "8                         -0.234313                              0.117797   \n",
              "9                         -0.482871                             -0.070670   \n",
              "\n",
              "   angle(X,gravityMean)  angle(Y,gravityMean)  angle(Z,gravityMean)  subject  \\\n",
              "0             -0.841247              0.179941             -0.058627        1   \n",
              "1             -0.844788              0.180289             -0.054317        1   \n",
              "2             -0.848933              0.180637             -0.049118        1   \n",
              "3             -0.848649              0.181935             -0.047663        1   \n",
              "4             -0.847865              0.185151             -0.043892        1   \n",
              "5             -0.849632              0.184823             -0.042126        1   \n",
              "6             -0.852150              0.182170             -0.043010        1   \n",
              "7             -0.851017              0.183779             -0.041976        1   \n",
              "8             -0.847971              0.188982             -0.037364        1   \n",
              "9             -0.848294              0.190310             -0.034417        1   \n",
              "\n",
              "   activity  \n",
              "0         5  \n",
              "1         5  \n",
              "2         5  \n",
              "3         5  \n",
              "4         5  \n",
              "5         5  \n",
              "6         5  \n",
              "7         5  \n",
              "8         5  \n",
              "9         5  \n",
              "\n",
              "[10 rows x 564 columns]"
            ],
            "text/html": [
              "<div>\n",
              "<style scoped>\n",
              "    .dataframe tbody tr th:only-of-type {\n",
              "        vertical-align: middle;\n",
              "    }\n",
              "\n",
              "    .dataframe tbody tr th {\n",
              "        vertical-align: top;\n",
              "    }\n",
              "\n",
              "    .dataframe thead th {\n",
              "        text-align: right;\n",
              "    }\n",
              "</style>\n",
              "<table border=\"1\" class=\"dataframe\">\n",
              "  <thead>\n",
              "    <tr style=\"text-align: right;\">\n",
              "      <th></th>\n",
              "      <th>id</th>\n",
              "      <th>tBodyAcc-mean()-X</th>\n",
              "      <th>tBodyAcc-mean()-Y</th>\n",
              "      <th>tBodyAcc-mean()-Z</th>\n",
              "      <th>tBodyAcc-std()-X</th>\n",
              "      <th>tBodyAcc-std()-Y</th>\n",
              "      <th>tBodyAcc-std()-Z</th>\n",
              "      <th>tBodyAcc-mad()-X</th>\n",
              "      <th>tBodyAcc-mad()-Y</th>\n",
              "      <th>tBodyAcc-mad()-Z</th>\n",
              "      <th>...</th>\n",
              "      <th>fBodyBodyGyroJerkMag-kurtosis()</th>\n",
              "      <th>angle(tBodyAccMean,gravity)</th>\n",
              "      <th>angle(tBodyAccJerkMean),gravityMean)</th>\n",
              "      <th>angle(tBodyGyroMean,gravityMean)</th>\n",
              "      <th>angle(tBodyGyroJerkMean,gravityMean)</th>\n",
              "      <th>angle(X,gravityMean)</th>\n",
              "      <th>angle(Y,gravityMean)</th>\n",
              "      <th>angle(Z,gravityMean)</th>\n",
              "      <th>subject</th>\n",
              "      <th>activity</th>\n",
              "    </tr>\n",
              "  </thead>\n",
              "  <tbody>\n",
              "    <tr>\n",
              "      <th>0</th>\n",
              "      <td>0</td>\n",
              "      <td>0.288585</td>\n",
              "      <td>-0.020294</td>\n",
              "      <td>-0.132905</td>\n",
              "      <td>-0.995279</td>\n",
              "      <td>-0.983111</td>\n",
              "      <td>-0.913526</td>\n",
              "      <td>-0.995112</td>\n",
              "      <td>-0.983185</td>\n",
              "      <td>-0.923527</td>\n",
              "      <td>...</td>\n",
              "      <td>-0.710304</td>\n",
              "      <td>-0.112754</td>\n",
              "      <td>0.030400</td>\n",
              "      <td>-0.464761</td>\n",
              "      <td>-0.018446</td>\n",
              "      <td>-0.841247</td>\n",
              "      <td>0.179941</td>\n",
              "      <td>-0.058627</td>\n",
              "      <td>1</td>\n",
              "      <td>5</td>\n",
              "    </tr>\n",
              "    <tr>\n",
              "      <th>1</th>\n",
              "      <td>1</td>\n",
              "      <td>0.278419</td>\n",
              "      <td>-0.016411</td>\n",
              "      <td>-0.123520</td>\n",
              "      <td>-0.998245</td>\n",
              "      <td>-0.975300</td>\n",
              "      <td>-0.960322</td>\n",
              "      <td>-0.998807</td>\n",
              "      <td>-0.974914</td>\n",
              "      <td>-0.957686</td>\n",
              "      <td>...</td>\n",
              "      <td>-0.861499</td>\n",
              "      <td>0.053477</td>\n",
              "      <td>-0.007435</td>\n",
              "      <td>-0.732626</td>\n",
              "      <td>0.703511</td>\n",
              "      <td>-0.844788</td>\n",
              "      <td>0.180289</td>\n",
              "      <td>-0.054317</td>\n",
              "      <td>1</td>\n",
              "      <td>5</td>\n",
              "    </tr>\n",
              "    <tr>\n",
              "      <th>2</th>\n",
              "      <td>2</td>\n",
              "      <td>0.279653</td>\n",
              "      <td>-0.019467</td>\n",
              "      <td>-0.113462</td>\n",
              "      <td>-0.995380</td>\n",
              "      <td>-0.967187</td>\n",
              "      <td>-0.978944</td>\n",
              "      <td>-0.996520</td>\n",
              "      <td>-0.963668</td>\n",
              "      <td>-0.977469</td>\n",
              "      <td>...</td>\n",
              "      <td>-0.760104</td>\n",
              "      <td>-0.118559</td>\n",
              "      <td>0.177899</td>\n",
              "      <td>0.100699</td>\n",
              "      <td>0.808529</td>\n",
              "      <td>-0.848933</td>\n",
              "      <td>0.180637</td>\n",
              "      <td>-0.049118</td>\n",
              "      <td>1</td>\n",
              "      <td>5</td>\n",
              "    </tr>\n",
              "    <tr>\n",
              "      <th>3</th>\n",
              "      <td>3</td>\n",
              "      <td>0.279174</td>\n",
              "      <td>-0.026201</td>\n",
              "      <td>-0.123283</td>\n",
              "      <td>-0.996091</td>\n",
              "      <td>-0.983403</td>\n",
              "      <td>-0.990675</td>\n",
              "      <td>-0.997099</td>\n",
              "      <td>-0.982750</td>\n",
              "      <td>-0.989302</td>\n",
              "      <td>...</td>\n",
              "      <td>-0.482845</td>\n",
              "      <td>-0.036788</td>\n",
              "      <td>-0.012892</td>\n",
              "      <td>0.640011</td>\n",
              "      <td>-0.485366</td>\n",
              "      <td>-0.848649</td>\n",
              "      <td>0.181935</td>\n",
              "      <td>-0.047663</td>\n",
              "      <td>1</td>\n",
              "      <td>5</td>\n",
              "    </tr>\n",
              "    <tr>\n",
              "      <th>4</th>\n",
              "      <td>4</td>\n",
              "      <td>0.276629</td>\n",
              "      <td>-0.016570</td>\n",
              "      <td>-0.115362</td>\n",
              "      <td>-0.998139</td>\n",
              "      <td>-0.980817</td>\n",
              "      <td>-0.990482</td>\n",
              "      <td>-0.998321</td>\n",
              "      <td>-0.979672</td>\n",
              "      <td>-0.990441</td>\n",
              "      <td>...</td>\n",
              "      <td>-0.699205</td>\n",
              "      <td>0.123320</td>\n",
              "      <td>0.122542</td>\n",
              "      <td>0.693578</td>\n",
              "      <td>-0.615971</td>\n",
              "      <td>-0.847865</td>\n",
              "      <td>0.185151</td>\n",
              "      <td>-0.043892</td>\n",
              "      <td>1</td>\n",
              "      <td>5</td>\n",
              "    </tr>\n",
              "    <tr>\n",
              "      <th>5</th>\n",
              "      <td>5</td>\n",
              "      <td>0.277199</td>\n",
              "      <td>-0.010098</td>\n",
              "      <td>-0.105137</td>\n",
              "      <td>-0.997335</td>\n",
              "      <td>-0.990487</td>\n",
              "      <td>-0.995420</td>\n",
              "      <td>-0.997627</td>\n",
              "      <td>-0.990218</td>\n",
              "      <td>-0.995549</td>\n",
              "      <td>...</td>\n",
              "      <td>-0.844619</td>\n",
              "      <td>0.082632</td>\n",
              "      <td>-0.143439</td>\n",
              "      <td>0.275041</td>\n",
              "      <td>-0.368224</td>\n",
              "      <td>-0.849632</td>\n",
              "      <td>0.184823</td>\n",
              "      <td>-0.042126</td>\n",
              "      <td>1</td>\n",
              "      <td>5</td>\n",
              "    </tr>\n",
              "    <tr>\n",
              "      <th>6</th>\n",
              "      <td>6</td>\n",
              "      <td>0.279454</td>\n",
              "      <td>-0.019641</td>\n",
              "      <td>-0.110022</td>\n",
              "      <td>-0.996921</td>\n",
              "      <td>-0.967186</td>\n",
              "      <td>-0.983118</td>\n",
              "      <td>-0.997003</td>\n",
              "      <td>-0.966097</td>\n",
              "      <td>-0.983116</td>\n",
              "      <td>...</td>\n",
              "      <td>-0.564430</td>\n",
              "      <td>-0.212754</td>\n",
              "      <td>-0.230622</td>\n",
              "      <td>0.014637</td>\n",
              "      <td>-0.189512</td>\n",
              "      <td>-0.852150</td>\n",
              "      <td>0.182170</td>\n",
              "      <td>-0.043010</td>\n",
              "      <td>1</td>\n",
              "      <td>5</td>\n",
              "    </tr>\n",
              "    <tr>\n",
              "      <th>7</th>\n",
              "      <td>7</td>\n",
              "      <td>0.277432</td>\n",
              "      <td>-0.030488</td>\n",
              "      <td>-0.125360</td>\n",
              "      <td>-0.996559</td>\n",
              "      <td>-0.966728</td>\n",
              "      <td>-0.981585</td>\n",
              "      <td>-0.996485</td>\n",
              "      <td>-0.966313</td>\n",
              "      <td>-0.982982</td>\n",
              "      <td>...</td>\n",
              "      <td>-0.421715</td>\n",
              "      <td>-0.020888</td>\n",
              "      <td>0.593996</td>\n",
              "      <td>-0.561871</td>\n",
              "      <td>0.467383</td>\n",
              "      <td>-0.851017</td>\n",
              "      <td>0.183779</td>\n",
              "      <td>-0.041976</td>\n",
              "      <td>1</td>\n",
              "      <td>5</td>\n",
              "    </tr>\n",
              "    <tr>\n",
              "      <th>8</th>\n",
              "      <td>8</td>\n",
              "      <td>0.277293</td>\n",
              "      <td>-0.021751</td>\n",
              "      <td>-0.120751</td>\n",
              "      <td>-0.997328</td>\n",
              "      <td>-0.961245</td>\n",
              "      <td>-0.983672</td>\n",
              "      <td>-0.997596</td>\n",
              "      <td>-0.957236</td>\n",
              "      <td>-0.984379</td>\n",
              "      <td>...</td>\n",
              "      <td>-0.572995</td>\n",
              "      <td>0.012954</td>\n",
              "      <td>0.080936</td>\n",
              "      <td>-0.234313</td>\n",
              "      <td>0.117797</td>\n",
              "      <td>-0.847971</td>\n",
              "      <td>0.188982</td>\n",
              "      <td>-0.037364</td>\n",
              "      <td>1</td>\n",
              "      <td>5</td>\n",
              "    </tr>\n",
              "    <tr>\n",
              "      <th>9</th>\n",
              "      <td>9</td>\n",
              "      <td>0.280586</td>\n",
              "      <td>-0.009960</td>\n",
              "      <td>-0.106065</td>\n",
              "      <td>-0.994803</td>\n",
              "      <td>-0.972758</td>\n",
              "      <td>-0.986244</td>\n",
              "      <td>-0.995405</td>\n",
              "      <td>-0.973663</td>\n",
              "      <td>-0.985642</td>\n",
              "      <td>...</td>\n",
              "      <td>0.140452</td>\n",
              "      <td>-0.020590</td>\n",
              "      <td>-0.127730</td>\n",
              "      <td>-0.482871</td>\n",
              "      <td>-0.070670</td>\n",
              "      <td>-0.848294</td>\n",
              "      <td>0.190310</td>\n",
              "      <td>-0.034417</td>\n",
              "      <td>1</td>\n",
              "      <td>5</td>\n",
              "    </tr>\n",
              "  </tbody>\n",
              "</table>\n",
              "<p>10 rows × 564 columns</p>\n",
              "</div>"
            ]
          },
          "metadata": {
            "tags": []
          },
          "execution_count": 252
        }
      ]
    },
    {
      "cell_type": "code",
      "metadata": {
        "id": "_R0qzhoIbF6G",
        "trusted": true
      },
      "source": [
        "data_train, data_val = train_test_split(data, train_size=0.8, test_size=0.2)\n",
        "\n",
        "train_X = data_train.drop(['id', 'subject', 'activity'], axis=1)\n",
        "train_Y = data_train.activity\n",
        "\n",
        "val_X = data_val.drop(['id', 'subject', 'activity'], axis=1)\n",
        "val_Y = data_val.activity"
      ],
      "execution_count": null,
      "outputs": []
    },
    {
      "cell_type": "code",
      "metadata": {
        "id": "gVhF41I1q85z",
        "trusted": true,
        "outputId": "00d99df7-af3b-402e-a42d-b6e064dc4b5f"
      },
      "source": [
        "activity = data_train.activity.map({1:0, 2:1, 3:2, 4:3, 5:4, 6:5})\n",
        "data_train[\"activity\"] = activity\n",
        "train_Y = to_categorical(data_train['activity'], num_classes=6)\n",
        "\n",
        "activity = data_val.activity.map({1:0, 2:1, 3:2, 4:3, 5:4, 6:5})\n",
        "data_val[\"activity\"] = activity\n",
        "val_Y = to_categorical(data_val['activity'], num_classes=6)"
      ],
      "execution_count": null,
      "outputs": [
        {
          "output_type": "stream",
          "text": [
            "/opt/conda/lib/python3.7/site-packages/ipykernel_launcher.py:2: SettingWithCopyWarning: \n",
            "A value is trying to be set on a copy of a slice from a DataFrame.\n",
            "Try using .loc[row_indexer,col_indexer] = value instead\n",
            "\n",
            "See the caveats in the documentation: https://pandas.pydata.org/pandas-docs/stable/user_guide/indexing.html#returning-a-view-versus-a-copy\n",
            "  \n",
            "/opt/conda/lib/python3.7/site-packages/ipykernel_launcher.py:6: SettingWithCopyWarning: \n",
            "A value is trying to be set on a copy of a slice from a DataFrame.\n",
            "Try using .loc[row_indexer,col_indexer] = value instead\n",
            "\n",
            "See the caveats in the documentation: https://pandas.pydata.org/pandas-docs/stable/user_guide/indexing.html#returning-a-view-versus-a-copy\n",
            "  \n"
          ],
          "name": "stderr"
        }
      ]
    },
    {
      "cell_type": "code",
      "metadata": {
        "id": "l-PipzWyzcjo",
        "trusted": true,
        "outputId": "10088390-86ce-4d26-f1df-0bac4a5d9128"
      },
      "source": [
        "train_X.shape"
      ],
      "execution_count": null,
      "outputs": [
        {
          "output_type": "execute_result",
          "data": {
            "text/plain": [
              "(5881, 561)"
            ]
          },
          "metadata": {
            "tags": []
          },
          "execution_count": 255
        }
      ]
    },
    {
      "cell_type": "code",
      "metadata": {
        "id": "293_hXcfWCRY",
        "trusted": true
      },
      "source": [
        "train_X = train_X.values.reshape(-1, 1, 561)\n",
        "val_X  = val_X.values.reshape(-1, 1, 561)\n",
        "train_Y = train_Y.reshape(-1, 1, 6)\n",
        "val_Y = val_Y.reshape(-1, 1, 6)"
      ],
      "execution_count": null,
      "outputs": []
    },
    {
      "cell_type": "markdown",
      "metadata": {
        "id": "Z7h7moZMPSfB"
      },
      "source": [
        "##Model"
      ]
    },
    {
      "cell_type": "code",
      "metadata": {
        "id": "pQ0chOQOb7II",
        "trusted": true,
        "outputId": "ff5c7b99-62d6-4351-b27e-a32b09aec7c5"
      },
      "source": [
        "model = Sequential()\n",
        "\n",
        "#model.add(LSTM(100, activation='relu', return_sequences=True, input_shape=(1, 561))) # Add in n steps and features\n",
        "#model.add(LSTM(100, activation='relu', return_sequences=True, input_shape=(1, 561)))\n",
        "#model.add(LSTM(100, activation='relu', return_sequences=True, input_shape=(1, 561)))\n",
        "\n",
        "model.add(tf.keras.layers.Bidirectional(LSTM(100, activation='relu', return_sequences=True), input_shape=(1, 561)))\n",
        "model.add(tf.keras.layers.Bidirectional(LSTM(100, activation='relu', return_sequences=True), input_shape=(1, 561)))\n",
        "\n",
        "model.add(Dropout(0.3))\n",
        "model.add(Dense(500, activation='relu'))\n",
        "model.add(Dense(250, activation='relu'))\n",
        "model.add(Dropout(0.5))\n",
        "model.add(Dense(125, activation='relu'))\n",
        "model.add(Dense(50, activation='relu'))\n",
        "\n",
        "model.add(Dense(6, activation='softmax'))\n",
        "\n",
        "opt = tf.keras.optimizers.RMSprop(learning_rate=0.025, rho=0.5, momentum=0.01, epsilon=1e-07, centered=False, name=\"RMSprop\")\n",
        "\n",
        "model.compile(loss='categorical_crossentropy', optimizer='adam', metrics=['accuracy'])\n",
        "\n",
        "model.summary()"
      ],
      "execution_count": null,
      "outputs": [
        {
          "output_type": "stream",
          "text": [
            "Model: \"sequential_13\"\n",
            "_________________________________________________________________\n",
            "Layer (type)                 Output Shape              Param #   \n",
            "=================================================================\n",
            "bidirectional_13 (Bidirectio (None, 1, 200)            529600    \n",
            "_________________________________________________________________\n",
            "bidirectional_14 (Bidirectio (None, 1, 200)            240800    \n",
            "_________________________________________________________________\n",
            "dropout_22 (Dropout)         (None, 1, 200)            0         \n",
            "_________________________________________________________________\n",
            "dense_63 (Dense)             (None, 1, 500)            100500    \n",
            "_________________________________________________________________\n",
            "dense_64 (Dense)             (None, 1, 250)            125250    \n",
            "_________________________________________________________________\n",
            "dropout_23 (Dropout)         (None, 1, 250)            0         \n",
            "_________________________________________________________________\n",
            "dense_65 (Dense)             (None, 1, 125)            31375     \n",
            "_________________________________________________________________\n",
            "dense_66 (Dense)             (None, 1, 50)             6300      \n",
            "_________________________________________________________________\n",
            "dense_67 (Dense)             (None, 1, 6)              306       \n",
            "=================================================================\n",
            "Total params: 1,034,131\n",
            "Trainable params: 1,034,131\n",
            "Non-trainable params: 0\n",
            "_________________________________________________________________\n"
          ],
          "name": "stdout"
        }
      ]
    },
    {
      "cell_type": "code",
      "metadata": {
        "id": "q5FK6NM_ueYb",
        "trusted": true,
        "outputId": "bacc6584-8586-49af-8c7f-b0a51dd78915"
      },
      "source": [
        "reduce_lr = ReduceLROnPlateau(monitor='val_loss', factor=0.2,\n",
        "                              patience=5, min_lr=0.001)\n",
        "#reduce_lr = ReduceLROnPlateau(monitor='val_loss', factor=0.99, patience=10, min_lr=0.2)\n",
        "history = model.fit(train_X, train_Y, batch_size=None, epochs=30, verbose=1, validation_data=(val_X,val_Y), callbacks=[reduce_lr])"
      ],
      "execution_count": null,
      "outputs": [
        {
          "output_type": "stream",
          "text": [
            "Epoch 1/30\n",
            "184/184 [==============================] - 8s 18ms/step - loss: 1.1369 - accuracy: 0.4498 - val_loss: 0.4241 - val_accuracy: 0.7995\n",
            "Epoch 2/30\n",
            "184/184 [==============================] - 3s 14ms/step - loss: 0.2830 - accuracy: 0.8842 - val_loss: 0.1747 - val_accuracy: 0.9205\n",
            "Epoch 3/30\n",
            "184/184 [==============================] - 3s 14ms/step - loss: 0.2156 - accuracy: 0.9177 - val_loss: 0.0927 - val_accuracy: 0.9694\n",
            "Epoch 4/30\n",
            "184/184 [==============================] - 2s 13ms/step - loss: 0.1403 - accuracy: 0.9479 - val_loss: 0.0827 - val_accuracy: 0.9742\n",
            "Epoch 5/30\n",
            "184/184 [==============================] - 2s 13ms/step - loss: 0.1009 - accuracy: 0.9601 - val_loss: 0.1869 - val_accuracy: 0.9191\n",
            "Epoch 6/30\n",
            "184/184 [==============================] - 3s 14ms/step - loss: 0.1076 - accuracy: 0.9579 - val_loss: 0.0968 - val_accuracy: 0.9667\n",
            "Epoch 7/30\n",
            "184/184 [==============================] - 2s 13ms/step - loss: 0.0983 - accuracy: 0.9639 - val_loss: 0.0778 - val_accuracy: 0.9755\n",
            "Epoch 8/30\n",
            "184/184 [==============================] - 2s 13ms/step - loss: 0.1049 - accuracy: 0.9645 - val_loss: 0.1003 - val_accuracy: 0.9646\n",
            "Epoch 9/30\n",
            "184/184 [==============================] - 2s 13ms/step - loss: 0.0983 - accuracy: 0.9613 - val_loss: 0.0865 - val_accuracy: 0.9708\n",
            "Epoch 10/30\n",
            "184/184 [==============================] - 3s 14ms/step - loss: 0.0756 - accuracy: 0.9744 - val_loss: 0.0660 - val_accuracy: 0.9762\n",
            "Epoch 11/30\n",
            "184/184 [==============================] - 2s 13ms/step - loss: 0.0913 - accuracy: 0.9674 - val_loss: 0.0587 - val_accuracy: 0.9769\n",
            "Epoch 12/30\n",
            "184/184 [==============================] - 2s 13ms/step - loss: 0.0669 - accuracy: 0.9775 - val_loss: 0.0698 - val_accuracy: 0.9680\n",
            "Epoch 13/30\n",
            "184/184 [==============================] - 2s 13ms/step - loss: 0.0669 - accuracy: 0.9739 - val_loss: 0.0575 - val_accuracy: 0.9728\n",
            "Epoch 14/30\n",
            "184/184 [==============================] - 2s 13ms/step - loss: 0.0617 - accuracy: 0.9748 - val_loss: 0.0800 - val_accuracy: 0.9735\n",
            "Epoch 15/30\n",
            "184/184 [==============================] - 3s 14ms/step - loss: 0.0989 - accuracy: 0.9681 - val_loss: 0.1024 - val_accuracy: 0.9558\n",
            "Epoch 16/30\n",
            "184/184 [==============================] - 3s 14ms/step - loss: 0.0499 - accuracy: 0.9817 - val_loss: 0.2384 - val_accuracy: 0.9300\n",
            "Epoch 17/30\n",
            "184/184 [==============================] - 2s 13ms/step - loss: 0.0793 - accuracy: 0.9720 - val_loss: 0.0636 - val_accuracy: 0.9776\n",
            "Epoch 18/30\n",
            "184/184 [==============================] - 2s 13ms/step - loss: 0.0502 - accuracy: 0.9839 - val_loss: 0.1237 - val_accuracy: 0.9613\n",
            "Epoch 19/30\n",
            "184/184 [==============================] - 3s 14ms/step - loss: 0.0670 - accuracy: 0.9723 - val_loss: 0.0525 - val_accuracy: 0.9830\n",
            "Epoch 20/30\n",
            "184/184 [==============================] - 3s 14ms/step - loss: 0.0711 - accuracy: 0.9760 - val_loss: 0.1178 - val_accuracy: 0.9531\n",
            "Epoch 21/30\n",
            "184/184 [==============================] - 3s 14ms/step - loss: 0.0702 - accuracy: 0.9756 - val_loss: 0.0863 - val_accuracy: 0.9776\n",
            "Epoch 22/30\n",
            "184/184 [==============================] - 2s 14ms/step - loss: 0.0739 - accuracy: 0.9738 - val_loss: 0.0670 - val_accuracy: 0.9748\n",
            "Epoch 23/30\n",
            "184/184 [==============================] - 3s 14ms/step - loss: 0.0488 - accuracy: 0.9831 - val_loss: 0.0850 - val_accuracy: 0.9728\n",
            "Epoch 24/30\n",
            "184/184 [==============================] - 2s 14ms/step - loss: 0.0566 - accuracy: 0.9773 - val_loss: 0.0598 - val_accuracy: 0.9762\n",
            "Epoch 25/30\n",
            "184/184 [==============================] - 2s 13ms/step - loss: 0.0407 - accuracy: 0.9834 - val_loss: 0.0673 - val_accuracy: 0.9776\n",
            "Epoch 26/30\n",
            "184/184 [==============================] - 2s 13ms/step - loss: 0.0786 - accuracy: 0.9732 - val_loss: 0.0481 - val_accuracy: 0.9816\n",
            "Epoch 27/30\n",
            "184/184 [==============================] - 2s 13ms/step - loss: 0.0398 - accuracy: 0.9840 - val_loss: 0.0726 - val_accuracy: 0.9782\n",
            "Epoch 28/30\n",
            "184/184 [==============================] - 3s 14ms/step - loss: 0.0523 - accuracy: 0.9815 - val_loss: 0.0566 - val_accuracy: 0.9755\n",
            "Epoch 29/30\n",
            "184/184 [==============================] - 3s 14ms/step - loss: 0.0422 - accuracy: 0.9851 - val_loss: 0.0669 - val_accuracy: 0.9728\n",
            "Epoch 30/30\n",
            "184/184 [==============================] - 2s 13ms/step - loss: 0.0598 - accuracy: 0.9815 - val_loss: 0.0954 - val_accuracy: 0.9640\n"
          ],
          "name": "stdout"
        }
      ]
    },
    {
      "cell_type": "markdown",
      "metadata": {
        "id": "GRxfZnyFQEmv"
      },
      "source": [
        "###Plots"
      ]
    },
    {
      "cell_type": "code",
      "metadata": {
        "id": "5J1_ccpFQ1Us",
        "trusted": true,
        "outputId": "a8bad0fb-fdee-45e4-cc89-309265472e0c"
      },
      "source": [
        "fig, axes = plt.subplots(1,2, figsize=(18, 6))\n",
        "# Plot training & validation accuracy values\n",
        "axes[0].plot(history.history['accuracy'])\n",
        "axes[0].plot(history.history['val_accuracy'])\n",
        "axes[0].set_title('Model accuracy')\n",
        "axes[0].set_ylabel('Accuracy')\n",
        "axes[0].set_xlabel('Epoch')\n",
        "axes[0].legend(['Train', 'Validation'], loc='upper left')\n",
        "\n",
        "# Plot training & validation loss values\n",
        "axes[1].plot(history.history['loss'])\n",
        "axes[1].plot(history.history['val_loss'])\n",
        "axes[1].set_title('Model loss')\n",
        "axes[1].set_ylabel('Loss')\n",
        "axes[1].set_xlabel('Epoch')\n",
        "axes[1].legend(['Train', 'Validation'], loc='upper left')\n",
        "plt.show()"
      ],
      "execution_count": null,
      "outputs": [
        {
          "output_type": "display_data",
          "data": {
            "text/plain": [
              "<Figure size 1296x432 with 2 Axes>"
            ],
            "image/png": "[encoded data removed]"
          },
          "metadata": {
            "tags": [],
            "needs_background": "light"
          }
        }
      ]
    },
    {
      "cell_type": "markdown",
      "metadata": {
        "id": "o053xknkPh-o"
      },
      "source": [
        "##Submission"
      ]
    },
    {
      "cell_type": "code",
      "metadata": {
        "id": "jwDfQejL5_iR",
        "trusted": true
      },
      "source": [
        "model.save_weights(\"trial_model.h5\")"
      ],
      "execution_count": null,
      "outputs": []
    },
    {
      "cell_type": "code",
      "metadata": {
        "id": "kHM3iH_f6GE3",
        "trusted": true
      },
      "source": [
        "test_data = pd.read_csv('/kaggle/input/human-activity-recognition-with-rnn/test.csv')"
      ],
      "execution_count": null,
      "outputs": []
    },
    {
      "cell_type": "code",
      "metadata": {
        "id": "4rkmZ2pYKR9m",
        "trusted": true,
        "outputId": "90e75299-2dca-4e97-d326-8837533abc40"
      },
      "source": [
        "print(test_data)"
      ],
      "execution_count": null,
      "outputs": [
        {
          "output_type": "stream",
          "text": [
            "        id  tBodyAcc-mean()-X  tBodyAcc-mean()-Y  tBodyAcc-mean()-Z  \\\n",
            "0        0           0.257178          -0.023285          -0.014654   \n",
            "1        1           0.286027          -0.013163          -0.119083   \n",
            "2        2           0.275485          -0.026050          -0.118152   \n",
            "3        3           0.270298          -0.032614          -0.117520   \n",
            "4        4           0.274833          -0.027848          -0.129527   \n",
            "...    ...                ...                ...                ...   \n",
            "2942  2942           0.310155          -0.053391          -0.099109   \n",
            "2943  2943           0.363385          -0.039214          -0.105915   \n",
            "2944  2944           0.349966           0.030077          -0.115788   \n",
            "2945  2945           0.237594           0.018467          -0.096499   \n",
            "2946  2946           0.153627          -0.018437          -0.137018   \n",
            "\n",
            "      tBodyAcc-std()-X  tBodyAcc-std()-Y  tBodyAcc-std()-Z  tBodyAcc-mad()-X  \\\n",
            "0            -0.938404         -0.920091         -0.667683         -0.952501   \n",
            "1            -0.975415         -0.967458         -0.944958         -0.986799   \n",
            "2            -0.993819         -0.969926         -0.962748         -0.994403   \n",
            "3            -0.994743         -0.973268         -0.967091         -0.995274   \n",
            "4            -0.993852         -0.967445         -0.978295         -0.994111   \n",
            "...                ...               ...               ...               ...   \n",
            "2942         -0.287866         -0.140589         -0.215088         -0.356083   \n",
            "2943         -0.305388          0.028148         -0.196373         -0.373540   \n",
            "2944         -0.329638         -0.042143         -0.250181         -0.388017   \n",
            "2945         -0.323114         -0.229775         -0.207574         -0.392380   \n",
            "2946         -0.330046         -0.195253         -0.164339         -0.430974   \n",
            "\n",
            "      tBodyAcc-mad()-Y  tBodyAcc-mad()-Z  ...  \\\n",
            "0            -0.925249         -0.674302  ...   \n",
            "1            -0.968401         -0.945823  ...   \n",
            "2            -0.970735         -0.963483  ...   \n",
            "3            -0.974471         -0.968897  ...   \n",
            "4            -0.965953         -0.977346  ...   \n",
            "...                ...               ...  ...   \n",
            "2942         -0.148775         -0.232057  ...   \n",
            "2943         -0.030036         -0.270237  ...   \n",
            "2944         -0.133257         -0.347029  ...   \n",
            "2945         -0.279610         -0.289477  ...   \n",
            "2946         -0.218295         -0.229933  ...   \n",
            "\n",
            "      fBodyBodyGyroJerkMag-skewness()  fBodyBodyGyroJerkMag-kurtosis()  \\\n",
            "0                           -0.330370                        -0.705974   \n",
            "1                           -0.121845                        -0.594944   \n",
            "2                           -0.190422                        -0.640736   \n",
            "3                           -0.344418                        -0.736124   \n",
            "4                           -0.534685                        -0.846595   \n",
            "...                               ...                              ...   \n",
            "2942                        -0.376278                        -0.750809   \n",
            "2943                        -0.320418                        -0.700274   \n",
            "2944                        -0.118854                        -0.467179   \n",
            "2945                        -0.205445                        -0.617737   \n",
            "2946                        -0.072237                        -0.436940   \n",
            "\n",
            "      angle(tBodyAccMean,gravity)  angle(tBodyAccJerkMean),gravityMean)  \\\n",
            "0                        0.006462                              0.162920   \n",
            "1                       -0.083495                              0.017500   \n",
            "2                       -0.034956                              0.202302   \n",
            "3                       -0.017067                              0.154438   \n",
            "4                       -0.002223                             -0.040046   \n",
            "...                           ...                                   ...   \n",
            "2942                    -0.337422                              0.346295   \n",
            "2943                    -0.736701                             -0.372889   \n",
            "2944                    -0.181560                              0.088574   \n",
            "2945                     0.444558                             -0.819188   \n",
            "2946                     0.598808                             -0.287951   \n",
            "\n",
            "      angle(tBodyGyroMean,gravityMean)  angle(tBodyGyroJerkMean,gravityMean)  \\\n",
            "0                            -0.825886                              0.271151   \n",
            "1                            -0.434375                              0.920593   \n",
            "2                             0.064103                              0.145068   \n",
            "3                             0.340134                              0.296407   \n",
            "4                             0.736715                             -0.118545   \n",
            "...                                ...                                   ...   \n",
            "2942                          0.884904                             -0.698885   \n",
            "2943                         -0.657421                              0.322549   \n",
            "2944                          0.696663                              0.363139   \n",
            "2945                          0.929294                             -0.008398   \n",
            "2946                          0.876030                             -0.024965   \n",
            "\n",
            "      angle(X,gravityMean)  angle(Y,gravityMean)  angle(Z,gravityMean)  \\\n",
            "0                -0.720009              0.276801             -0.057978   \n",
            "1                -0.698091              0.281343             -0.083898   \n",
            "2                -0.702771              0.280083             -0.079346   \n",
            "3                -0.698954              0.284114             -0.077108   \n",
            "4                -0.692245              0.290722             -0.073857   \n",
            "...                    ...                   ...                   ...   \n",
            "2942             -0.651732              0.274627              0.184784   \n",
            "2943             -0.655181              0.273578              0.182412   \n",
            "2944             -0.655357              0.274479              0.181184   \n",
            "2945             -0.659719              0.264782              0.187563   \n",
            "2946             -0.660080              0.263936              0.188103   \n",
            "\n",
            "      subject  \n",
            "0           2  \n",
            "1           2  \n",
            "2           2  \n",
            "3           2  \n",
            "4           2  \n",
            "...       ...  \n",
            "2942       24  \n",
            "2943       24  \n",
            "2944       24  \n",
            "2945       24  \n",
            "2946       24  \n",
            "\n",
            "[2947 rows x 563 columns]\n"
          ],
          "name": "stdout"
        }
      ]
    },
    {
      "cell_type": "code",
      "metadata": {
        "id": "EVLNmtMg1yX0",
        "trusted": true
      },
      "source": [
        "#predict = np.zeros((1,6), dtype=int)\n",
        "#predict = predict.reshape(-1, 1, 6)\n",
        "test_data = test_data.drop(['id', 'subject'], axis=1)\n",
        "test_data = test_data.values.reshape(-1,1,561)\n",
        "predict = model.predict(test_data)"
      ],
      "execution_count": null,
      "outputs": []
    },
    {
      "cell_type": "code",
      "metadata": {
        "id": "6t-oYtYfLSg9",
        "trusted": true,
        "outputId": "b42c16d0-6462-436d-9b9f-ee86dbf73fd7"
      },
      "source": [
        "print(predict)"
      ],
      "execution_count": null,
      "outputs": [
        {
          "output_type": "stream",
          "text": [
            "[[[1.89963791e-11 3.67926696e-12 8.79474902e-15 2.79846572e-04\n",
            "   9.99720156e-01 3.39943460e-14]]\n",
            "\n",
            " [[2.08079247e-04 3.00524960e-04 3.47265377e-05 6.75843775e-01\n",
            "   3.22769523e-01 8.43394315e-04]]\n",
            "\n",
            " [[1.64519934e-05 1.26696405e-05 6.60958506e-07 9.58011597e-02\n",
            "   9.04164612e-01 4.43803037e-06]]\n",
            "\n",
            " ...\n",
            "\n",
            " [[5.96489626e-05 9.96472657e-01 3.44020477e-03 2.76424771e-07\n",
            "   2.71506960e-05 8.02428275e-08]]\n",
            "\n",
            " [[7.38295680e-03 9.27169323e-01 5.80818355e-02 6.18578924e-04\n",
            "   6.55032555e-03 1.96898909e-04]]\n",
            "\n",
            " [[8.93293247e-02 6.82647169e-01 1.46048293e-01 1.49264177e-02\n",
            "   6.15930334e-02 5.45573980e-03]]]\n"
          ],
          "name": "stdout"
        }
      ]
    },
    {
      "cell_type": "code",
      "metadata": {
        "id": "L6ZtKcKKA_jq",
        "trusted": true,
        "outputId": "e1b7bff8-1e7c-4ac7-bb46-92bef04192b2"
      },
      "source": [
        "predict.shape"
      ],
      "execution_count": null,
      "outputs": [
        {
          "output_type": "execute_result",
          "data": {
            "text/plain": [
              "(2947, 1, 6)"
            ]
          },
          "metadata": {
            "tags": []
          },
          "execution_count": 265
        }
      ]
    },
    {
      "cell_type": "code",
      "metadata": {
        "id": "QIsIMfNsAEf7",
        "trusted": true
      },
      "source": [
        "for i in range(2947):\n",
        "  max=0\n",
        "  for j in range(1):\n",
        "    for k in range(6):\n",
        "      if predict[i][j][k]>max:\n",
        "        max=predict[i][j][k]\n",
        "    for k in range(6):\n",
        "      if predict[i][j][k]==max:\n",
        "        predict[i][j][k]=1\n",
        "      else:\n",
        "        predict[i][j][k]=0"
      ],
      "execution_count": null,
      "outputs": []
    },
    {
      "cell_type": "code",
      "metadata": {
        "id": "0gosJkIVFZ4e",
        "trusted": true,
        "outputId": "a76e1d72-fcb4-4197-b197-b296cda7816d"
      },
      "source": [
        "results = np.zeros((2947,1), dtype=int)\n",
        "for i in range(2947):\n",
        "  max=0\n",
        "  for j in range(1):\n",
        "    for k in range(6):\n",
        "      if predict[i][j][k]==1:\n",
        "        results[i][0]=k+1\n",
        "print(results)"
      ],
      "execution_count": null,
      "outputs": [
        {
          "output_type": "stream",
          "text": [
            "[[5]\n",
            " [4]\n",
            " [5]\n",
            " ...\n",
            " [2]\n",
            " [2]\n",
            " [2]]\n"
          ],
          "name": "stdout"
        }
      ]
    },
    {
      "cell_type": "code",
      "metadata": {
        "id": "SgXzuS9T63ix",
        "trusted": true
      },
      "source": [
        "dat = pd.read_csv('/kaggle/input/human-activity-recognition-with-rnn/test.csv')\n",
        "submission = pd.DataFrame(dat, columns = ['id'])\n",
        "res = pd.DataFrame(results)\n",
        "submission['activity'] = res"
      ],
      "execution_count": null,
      "outputs": []
    },
    {
      "cell_type": "code",
      "metadata": {
        "id": "cfXqbjz_GtmY",
        "trusted": true,
        "outputId": "29fd31e1-7be2-4071-be73-433f7af6029b"
      },
      "source": [
        "print(submission)"
      ],
      "execution_count": null,
      "outputs": [
        {
          "output_type": "stream",
          "text": [
            "        id  activity\n",
            "0        0         5\n",
            "1        1         4\n",
            "2        2         5\n",
            "3        3         5\n",
            "4        4         5\n",
            "...    ...       ...\n",
            "2942  2942         2\n",
            "2943  2943         2\n",
            "2944  2944         2\n",
            "2945  2945         2\n",
            "2946  2946         2\n",
            "\n",
            "[2947 rows x 2 columns]\n"
          ],
          "name": "stdout"
        }
      ]
    },
    {
      "cell_type": "code",
      "metadata": {
        "id": "N5zpNyDfLErp",
        "trusted": true
      },
      "source": [
        "submission.to_csv('./submission.csv', index=False)"
      ],
      "execution_count": null,
      "outputs": []
    }
  ]
}