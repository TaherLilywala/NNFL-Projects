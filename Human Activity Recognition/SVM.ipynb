{
  "nbformat": 4,
  "nbformat_minor": 0,
  "metadata": {
    "kernelspec": {
      "display_name": "Python 3",
      "language": "python",
      "name": "python3"
    },
    "language_info": {
      "codemirror_mode": {
        "name": "ipython",
        "version": 3
      },
      "file_extension": ".py",
      "mimetype": "text/x-python",
      "name": "python",
      "nbconvert_exporter": "python",
      "pygments_lexer": "ipython3",
      "version": "3.7.9"
    },
    "papermill": {
      "default_parameters": {},
      "duration": 419.772706,
      "end_time": "2021-03-25T22:50:54.744287",
      "environment_variables": {},
      "exception": null,
      "input_path": "__notebook__.ipynb",
      "output_path": "__notebook__.ipynb",
      "parameters": {},
      "start_time": "2021-03-25T22:43:54.971581",
      "version": "2.2.2"
    },
    "colab": {
      "name": "SVM.ipynb",
      "provenance": [],
      "include_colab_link": true
    }
  },
  "cells": [
    {
      "cell_type": "markdown",
      "metadata": {
        "id": "view-in-github",
        "colab_type": "text"
      },
      "source": [
        "<a href=\"https://colab.research.google.com/github/TaherLilywala/NNFL-Projects/blob/main/Human%20Activity%20Recognition/SVM.ipynb\" target=\"_parent\"><img src=\"https://colab.research.google.com/assets/colab-badge.svg\" alt=\"Open In Colab\"/></a>"
      ]
    },
    {
      "cell_type": "markdown",
      "metadata": {
        "id": "zYDFlHksPLjL",
        "papermill": {
          "duration": 0.022494,
          "end_time": "2021-03-25T22:44:00.921306",
          "exception": false,
          "start_time": "2021-03-25T22:44:00.898812",
          "status": "completed"
        },
        "tags": []
      },
      "source": [
        "##Initial"
      ]
    },
    {
      "cell_type": "code",
      "metadata": {
        "execution": {
          "iopub.execute_input": "2021-03-25T22:44:00.978418Z",
          "iopub.status.busy": "2021-03-25T22:44:00.977705Z",
          "iopub.status.idle": "2021-03-25T22:44:08.876254Z",
          "shell.execute_reply": "2021-03-25T22:44:08.875377Z"
        },
        "id": "PfusujzfBN0t",
        "papermill": {
          "duration": 7.932167,
          "end_time": "2021-03-25T22:44:08.876486",
          "exception": false,
          "start_time": "2021-03-25T22:44:00.944319",
          "status": "completed"
        },
        "tags": []
      },
      "source": [
        "import numpy as np\n",
        "import pandas as pd\n",
        "import keras\n",
        "import tensorflow as tf\n",
        "\n",
        "\n",
        "import seaborn as sns\n",
        "import matplotlib.pyplot as plt\n",
        "from sklearn.manifold import TSNE\n",
        "import warnings\n",
        "from datetime import datetime\n",
        "from sklearn.model_selection import GridSearchCV\n",
        "from sklearn.metrics import confusion_matrix\n",
        "from sklearn.metrics import accuracy_score\n",
        "from sklearn.linear_model import LogisticRegression\n",
        "from sklearn.svm import LinearSVC\n",
        "from sklearn.svm import SVC\n",
        "from sklearn.tree import DecisionTreeClassifier\n",
        "from sklearn.ensemble import RandomForestClassifier\n",
        "from sklearn.ensemble import GradientBoostingClassifier\n",
        "from keras.models import Sequential\n",
        "from keras.layers import LSTM\n",
        "from keras.layers.core import Dense, Dropout\n",
        "#from hyperopt import Trials, STATUS_OK, tpe\n",
        "#from hyperas import optim\n",
        "#from hyperas.distributions import choice, uniform\n",
        "\n",
        "import numpy as np # linear algebra\n",
        "import pandas as pd # data processing, CSV file I/O\n",
        "import keras\n",
        "\n",
        "from keras.utils import to_categorical\n",
        "from keras.callbacks import EarlyStopping, ReduceLROnPlateau\n",
        "from keras.models import Sequential\n",
        "from keras.layers import Dense, Dropout, Activation, Flatten\n",
        "from keras.layers import Conv2D, MaxPooling2D, BatchNormalization\n",
        "from keras.losses import categorical_crossentropy\n",
        "from sklearn.metrics import accuracy_score\n",
        "from keras.optimizers import Adam\n",
        "from keras.regularizers import l2\n",
        "from keras.preprocessing.image import ImageDataGenerator\n",
        "from sklearn.metrics import classification_report, confusion_matrix\n",
        "from sklearn.model_selection import train_test_split\n",
        "import matplotlib.pyplot as plt\n",
        "import seaborn as sns\n",
        "from sklearn.preprocessing import LabelEncoder, OneHotEncoder\n",
        "import os"
      ],
      "execution_count": null,
      "outputs": []
    },
    {
      "cell_type": "code",
      "metadata": {
        "execution": {
          "iopub.execute_input": "2021-03-25T22:44:08.925590Z",
          "iopub.status.busy": "2021-03-25T22:44:08.924935Z",
          "iopub.status.idle": "2021-03-25T22:44:10.470412Z",
          "shell.execute_reply": "2021-03-25T22:44:10.469723Z"
        },
        "id": "BStANcW8D_E_",
        "papermill": {
          "duration": 1.572001,
          "end_time": "2021-03-25T22:44:10.470605",
          "exception": false,
          "start_time": "2021-03-25T22:44:08.898604",
          "status": "completed"
        },
        "tags": []
      },
      "source": [
        "data = pd.read_csv('/kaggle/input/human-activity-recognition-with-rnn/train.csv')\n",
        "#from google.colab import drive\n",
        "#drive.mount('/content/drive')\n",
        "#data = pd.read_csv('/content/drive/My Drive/NNFL Stuff/Assign2/train.csv')\n",
        "#check data shape"
      ],
      "execution_count": null,
      "outputs": []
    },
    {
      "cell_type": "code",
      "metadata": {
        "execution": {
          "iopub.execute_input": "2021-03-25T22:44:10.522107Z",
          "iopub.status.busy": "2021-03-25T22:44:10.521262Z",
          "iopub.status.idle": "2021-03-25T22:44:10.525997Z",
          "shell.execute_reply": "2021-03-25T22:44:10.525489Z"
        },
        "id": "ymU3pJjVERkI",
        "papermill": {
          "duration": 0.033634,
          "end_time": "2021-03-25T22:44:10.526143",
          "exception": false,
          "start_time": "2021-03-25T22:44:10.492509",
          "status": "completed"
        },
        "tags": [],
        "outputId": "5ab743eb-1572-40bb-b51c-42227dfe59ad"
      },
      "source": [
        "data.shape"
      ],
      "execution_count": null,
      "outputs": [
        {
          "output_type": "execute_result",
          "data": {
            "text/plain": [
              "(7352, 564)"
            ]
          },
          "metadata": {
            "tags": []
          },
          "execution_count": 3
        }
      ]
    },
    {
      "cell_type": "code",
      "metadata": {
        "execution": {
          "iopub.execute_input": "2021-03-25T22:44:10.585888Z",
          "iopub.status.busy": "2021-03-25T22:44:10.585102Z",
          "iopub.status.idle": "2021-03-25T22:44:10.628203Z",
          "shell.execute_reply": "2021-03-25T22:44:10.627698Z"
        },
        "id": "fA-rfEKvjQVs",
        "papermill": {
          "duration": 0.079035,
          "end_time": "2021-03-25T22:44:10.628347",
          "exception": false,
          "start_time": "2021-03-25T22:44:10.549312",
          "status": "completed"
        },
        "tags": [],
        "outputId": "39d71d84-997f-42d8-f018-0cb3cafe8166"
      },
      "source": [
        "data.head(10)"
      ],
      "execution_count": null,
      "outputs": [
        {
          "output_type": "execute_result",
          "data": {
            "text/html": [
              "<div>\n",
              "<style scoped>\n",
              "    .dataframe tbody tr th:only-of-type {\n",
              "        vertical-align: middle;\n",
              "    }\n",
              "\n",
              "    .dataframe tbody tr th {\n",
              "        vertical-align: top;\n",
              "    }\n",
              "\n",
              "    .dataframe thead th {\n",
              "        text-align: right;\n",
              "    }\n",
              "</style>\n",
              "<table border=\"1\" class=\"dataframe\">\n",
              "  <thead>\n",
              "    <tr style=\"text-align: right;\">\n",
              "      <th></th>\n",
              "      <th>id</th>\n",
              "      <th>tBodyAcc-mean()-X</th>\n",
              "      <th>tBodyAcc-mean()-Y</th>\n",
              "      <th>tBodyAcc-mean()-Z</th>\n",
              "      <th>tBodyAcc-std()-X</th>\n",
              "      <th>tBodyAcc-std()-Y</th>\n",
              "      <th>tBodyAcc-std()-Z</th>\n",
              "      <th>tBodyAcc-mad()-X</th>\n",
              "      <th>tBodyAcc-mad()-Y</th>\n",
              "      <th>tBodyAcc-mad()-Z</th>\n",
              "      <th>...</th>\n",
              "      <th>fBodyBodyGyroJerkMag-kurtosis()</th>\n",
              "      <th>angle(tBodyAccMean,gravity)</th>\n",
              "      <th>angle(tBodyAccJerkMean),gravityMean)</th>\n",
              "      <th>angle(tBodyGyroMean,gravityMean)</th>\n",
              "      <th>angle(tBodyGyroJerkMean,gravityMean)</th>\n",
              "      <th>angle(X,gravityMean)</th>\n",
              "      <th>angle(Y,gravityMean)</th>\n",
              "      <th>angle(Z,gravityMean)</th>\n",
              "      <th>subject</th>\n",
              "      <th>activity</th>\n",
              "    </tr>\n",
              "  </thead>\n",
              "  <tbody>\n",
              "    <tr>\n",
              "      <th>0</th>\n",
              "      <td>0</td>\n",
              "      <td>0.288585</td>\n",
              "      <td>-0.020294</td>\n",
              "      <td>-0.132905</td>\n",
              "      <td>-0.995279</td>\n",
              "      <td>-0.983111</td>\n",
              "      <td>-0.913526</td>\n",
              "      <td>-0.995112</td>\n",
              "      <td>-0.983185</td>\n",
              "      <td>-0.923527</td>\n",
              "      <td>...</td>\n",
              "      <td>-0.710304</td>\n",
              "      <td>-0.112754</td>\n",
              "      <td>0.030400</td>\n",
              "      <td>-0.464761</td>\n",
              "      <td>-0.018446</td>\n",
              "      <td>-0.841247</td>\n",
              "      <td>0.179941</td>\n",
              "      <td>-0.058627</td>\n",
              "      <td>1</td>\n",
              "      <td>5</td>\n",
              "    </tr>\n",
              "    <tr>\n",
              "      <th>1</th>\n",
              "      <td>1</td>\n",
              "      <td>0.278419</td>\n",
              "      <td>-0.016411</td>\n",
              "      <td>-0.123520</td>\n",
              "      <td>-0.998245</td>\n",
              "      <td>-0.975300</td>\n",
              "      <td>-0.960322</td>\n",
              "      <td>-0.998807</td>\n",
              "      <td>-0.974914</td>\n",
              "      <td>-0.957686</td>\n",
              "      <td>...</td>\n",
              "      <td>-0.861499</td>\n",
              "      <td>0.053477</td>\n",
              "      <td>-0.007435</td>\n",
              "      <td>-0.732626</td>\n",
              "      <td>0.703511</td>\n",
              "      <td>-0.844788</td>\n",
              "      <td>0.180289</td>\n",
              "      <td>-0.054317</td>\n",
              "      <td>1</td>\n",
              "      <td>5</td>\n",
              "    </tr>\n",
              "    <tr>\n",
              "      <th>2</th>\n",
              "      <td>2</td>\n",
              "      <td>0.279653</td>\n",
              "      <td>-0.019467</td>\n",
              "      <td>-0.113462</td>\n",
              "      <td>-0.995380</td>\n",
              "      <td>-0.967187</td>\n",
              "      <td>-0.978944</td>\n",
              "      <td>-0.996520</td>\n",
              "      <td>-0.963668</td>\n",
              "      <td>-0.977469</td>\n",
              "      <td>...</td>\n",
              "      <td>-0.760104</td>\n",
              "      <td>-0.118559</td>\n",
              "      <td>0.177899</td>\n",
              "      <td>0.100699</td>\n",
              "      <td>0.808529</td>\n",
              "      <td>-0.848933</td>\n",
              "      <td>0.180637</td>\n",
              "      <td>-0.049118</td>\n",
              "      <td>1</td>\n",
              "      <td>5</td>\n",
              "    </tr>\n",
              "    <tr>\n",
              "      <th>3</th>\n",
              "      <td>3</td>\n",
              "      <td>0.279174</td>\n",
              "      <td>-0.026201</td>\n",
              "      <td>-0.123283</td>\n",
              "      <td>-0.996091</td>\n",
              "      <td>-0.983403</td>\n",
              "      <td>-0.990675</td>\n",
              "      <td>-0.997099</td>\n",
              "      <td>-0.982750</td>\n",
              "      <td>-0.989302</td>\n",
              "      <td>...</td>\n",
              "      <td>-0.482845</td>\n",
              "      <td>-0.036788</td>\n",
              "      <td>-0.012892</td>\n",
              "      <td>0.640011</td>\n",
              "      <td>-0.485366</td>\n",
              "      <td>-0.848649</td>\n",
              "      <td>0.181935</td>\n",
              "      <td>-0.047663</td>\n",
              "      <td>1</td>\n",
              "      <td>5</td>\n",
              "    </tr>\n",
              "    <tr>\n",
              "      <th>4</th>\n",
              "      <td>4</td>\n",
              "      <td>0.276629</td>\n",
              "      <td>-0.016570</td>\n",
              "      <td>-0.115362</td>\n",
              "      <td>-0.998139</td>\n",
              "      <td>-0.980817</td>\n",
              "      <td>-0.990482</td>\n",
              "      <td>-0.998321</td>\n",
              "      <td>-0.979672</td>\n",
              "      <td>-0.990441</td>\n",
              "      <td>...</td>\n",
              "      <td>-0.699205</td>\n",
              "      <td>0.123320</td>\n",
              "      <td>0.122542</td>\n",
              "      <td>0.693578</td>\n",
              "      <td>-0.615971</td>\n",
              "      <td>-0.847865</td>\n",
              "      <td>0.185151</td>\n",
              "      <td>-0.043892</td>\n",
              "      <td>1</td>\n",
              "      <td>5</td>\n",
              "    </tr>\n",
              "    <tr>\n",
              "      <th>5</th>\n",
              "      <td>5</td>\n",
              "      <td>0.277199</td>\n",
              "      <td>-0.010098</td>\n",
              "      <td>-0.105137</td>\n",
              "      <td>-0.997335</td>\n",
              "      <td>-0.990487</td>\n",
              "      <td>-0.995420</td>\n",
              "      <td>-0.997627</td>\n",
              "      <td>-0.990218</td>\n",
              "      <td>-0.995549</td>\n",
              "      <td>...</td>\n",
              "      <td>-0.844619</td>\n",
              "      <td>0.082632</td>\n",
              "      <td>-0.143439</td>\n",
              "      <td>0.275041</td>\n",
              "      <td>-0.368224</td>\n",
              "      <td>-0.849632</td>\n",
              "      <td>0.184823</td>\n",
              "      <td>-0.042126</td>\n",
              "      <td>1</td>\n",
              "      <td>5</td>\n",
              "    </tr>\n",
              "    <tr>\n",
              "      <th>6</th>\n",
              "      <td>6</td>\n",
              "      <td>0.279454</td>\n",
              "      <td>-0.019641</td>\n",
              "      <td>-0.110022</td>\n",
              "      <td>-0.996921</td>\n",
              "      <td>-0.967186</td>\n",
              "      <td>-0.983118</td>\n",
              "      <td>-0.997003</td>\n",
              "      <td>-0.966097</td>\n",
              "      <td>-0.983116</td>\n",
              "      <td>...</td>\n",
              "      <td>-0.564430</td>\n",
              "      <td>-0.212754</td>\n",
              "      <td>-0.230622</td>\n",
              "      <td>0.014637</td>\n",
              "      <td>-0.189512</td>\n",
              "      <td>-0.852150</td>\n",
              "      <td>0.182170</td>\n",
              "      <td>-0.043010</td>\n",
              "      <td>1</td>\n",
              "      <td>5</td>\n",
              "    </tr>\n",
              "    <tr>\n",
              "      <th>7</th>\n",
              "      <td>7</td>\n",
              "      <td>0.277432</td>\n",
              "      <td>-0.030488</td>\n",
              "      <td>-0.125360</td>\n",
              "      <td>-0.996559</td>\n",
              "      <td>-0.966728</td>\n",
              "      <td>-0.981585</td>\n",
              "      <td>-0.996485</td>\n",
              "      <td>-0.966313</td>\n",
              "      <td>-0.982982</td>\n",
              "      <td>...</td>\n",
              "      <td>-0.421715</td>\n",
              "      <td>-0.020888</td>\n",
              "      <td>0.593996</td>\n",
              "      <td>-0.561871</td>\n",
              "      <td>0.467383</td>\n",
              "      <td>-0.851017</td>\n",
              "      <td>0.183779</td>\n",
              "      <td>-0.041976</td>\n",
              "      <td>1</td>\n",
              "      <td>5</td>\n",
              "    </tr>\n",
              "    <tr>\n",
              "      <th>8</th>\n",
              "      <td>8</td>\n",
              "      <td>0.277293</td>\n",
              "      <td>-0.021751</td>\n",
              "      <td>-0.120751</td>\n",
              "      <td>-0.997328</td>\n",
              "      <td>-0.961245</td>\n",
              "      <td>-0.983672</td>\n",
              "      <td>-0.997596</td>\n",
              "      <td>-0.957236</td>\n",
              "      <td>-0.984379</td>\n",
              "      <td>...</td>\n",
              "      <td>-0.572995</td>\n",
              "      <td>0.012954</td>\n",
              "      <td>0.080936</td>\n",
              "      <td>-0.234313</td>\n",
              "      <td>0.117797</td>\n",
              "      <td>-0.847971</td>\n",
              "      <td>0.188982</td>\n",
              "      <td>-0.037364</td>\n",
              "      <td>1</td>\n",
              "      <td>5</td>\n",
              "    </tr>\n",
              "    <tr>\n",
              "      <th>9</th>\n",
              "      <td>9</td>\n",
              "      <td>0.280586</td>\n",
              "      <td>-0.009960</td>\n",
              "      <td>-0.106065</td>\n",
              "      <td>-0.994803</td>\n",
              "      <td>-0.972758</td>\n",
              "      <td>-0.986244</td>\n",
              "      <td>-0.995405</td>\n",
              "      <td>-0.973663</td>\n",
              "      <td>-0.985642</td>\n",
              "      <td>...</td>\n",
              "      <td>0.140452</td>\n",
              "      <td>-0.020590</td>\n",
              "      <td>-0.127730</td>\n",
              "      <td>-0.482871</td>\n",
              "      <td>-0.070670</td>\n",
              "      <td>-0.848294</td>\n",
              "      <td>0.190310</td>\n",
              "      <td>-0.034417</td>\n",
              "      <td>1</td>\n",
              "      <td>5</td>\n",
              "    </tr>\n",
              "  </tbody>\n",
              "</table>\n",
              "<p>10 rows × 564 columns</p>\n",
              "</div>"
            ],
            "text/plain": [
              "   id  tBodyAcc-mean()-X  tBodyAcc-mean()-Y  tBodyAcc-mean()-Z  \\\n",
              "0   0           0.288585          -0.020294          -0.132905   \n",
              "1   1           0.278419          -0.016411          -0.123520   \n",
              "2   2           0.279653          -0.019467          -0.113462   \n",
              "3   3           0.279174          -0.026201          -0.123283   \n",
              "4   4           0.276629          -0.016570          -0.115362   \n",
              "5   5           0.277199          -0.010098          -0.105137   \n",
              "6   6           0.279454          -0.019641          -0.110022   \n",
              "7   7           0.277432          -0.030488          -0.125360   \n",
              "8   8           0.277293          -0.021751          -0.120751   \n",
              "9   9           0.280586          -0.009960          -0.106065   \n",
              "\n",
              "   tBodyAcc-std()-X  tBodyAcc-std()-Y  tBodyAcc-std()-Z  tBodyAcc-mad()-X  \\\n",
              "0         -0.995279         -0.983111         -0.913526         -0.995112   \n",
              "1         -0.998245         -0.975300         -0.960322         -0.998807   \n",
              "2         -0.995380         -0.967187         -0.978944         -0.996520   \n",
              "3         -0.996091         -0.983403         -0.990675         -0.997099   \n",
              "4         -0.998139         -0.980817         -0.990482         -0.998321   \n",
              "5         -0.997335         -0.990487         -0.995420         -0.997627   \n",
              "6         -0.996921         -0.967186         -0.983118         -0.997003   \n",
              "7         -0.996559         -0.966728         -0.981585         -0.996485   \n",
              "8         -0.997328         -0.961245         -0.983672         -0.997596   \n",
              "9         -0.994803         -0.972758         -0.986244         -0.995405   \n",
              "\n",
              "   tBodyAcc-mad()-Y  tBodyAcc-mad()-Z  ...  fBodyBodyGyroJerkMag-kurtosis()  \\\n",
              "0         -0.983185         -0.923527  ...                        -0.710304   \n",
              "1         -0.974914         -0.957686  ...                        -0.861499   \n",
              "2         -0.963668         -0.977469  ...                        -0.760104   \n",
              "3         -0.982750         -0.989302  ...                        -0.482845   \n",
              "4         -0.979672         -0.990441  ...                        -0.699205   \n",
              "5         -0.990218         -0.995549  ...                        -0.844619   \n",
              "6         -0.966097         -0.983116  ...                        -0.564430   \n",
              "7         -0.966313         -0.982982  ...                        -0.421715   \n",
              "8         -0.957236         -0.984379  ...                        -0.572995   \n",
              "9         -0.973663         -0.985642  ...                         0.140452   \n",
              "\n",
              "   angle(tBodyAccMean,gravity)  angle(tBodyAccJerkMean),gravityMean)  \\\n",
              "0                    -0.112754                              0.030400   \n",
              "1                     0.053477                             -0.007435   \n",
              "2                    -0.118559                              0.177899   \n",
              "3                    -0.036788                             -0.012892   \n",
              "4                     0.123320                              0.122542   \n",
              "5                     0.082632                             -0.143439   \n",
              "6                    -0.212754                             -0.230622   \n",
              "7                    -0.020888                              0.593996   \n",
              "8                     0.012954                              0.080936   \n",
              "9                    -0.020590                             -0.127730   \n",
              "\n",
              "   angle(tBodyGyroMean,gravityMean)  angle(tBodyGyroJerkMean,gravityMean)  \\\n",
              "0                         -0.464761                             -0.018446   \n",
              "1                         -0.732626                              0.703511   \n",
              "2                          0.100699                              0.808529   \n",
              "3                          0.640011                             -0.485366   \n",
              "4                          0.693578                             -0.615971   \n",
              "5                          0.275041                             -0.368224   \n",
              "6                          0.014637                             -0.189512   \n",
              "7                         -0.561871                              0.467383   \n",
              "8                         -0.234313                              0.117797   \n",
              "9                         -0.482871                             -0.070670   \n",
              "\n",
              "   angle(X,gravityMean)  angle(Y,gravityMean)  angle(Z,gravityMean)  subject  \\\n",
              "0             -0.841247              0.179941             -0.058627        1   \n",
              "1             -0.844788              0.180289             -0.054317        1   \n",
              "2             -0.848933              0.180637             -0.049118        1   \n",
              "3             -0.848649              0.181935             -0.047663        1   \n",
              "4             -0.847865              0.185151             -0.043892        1   \n",
              "5             -0.849632              0.184823             -0.042126        1   \n",
              "6             -0.852150              0.182170             -0.043010        1   \n",
              "7             -0.851017              0.183779             -0.041976        1   \n",
              "8             -0.847971              0.188982             -0.037364        1   \n",
              "9             -0.848294              0.190310             -0.034417        1   \n",
              "\n",
              "   activity  \n",
              "0         5  \n",
              "1         5  \n",
              "2         5  \n",
              "3         5  \n",
              "4         5  \n",
              "5         5  \n",
              "6         5  \n",
              "7         5  \n",
              "8         5  \n",
              "9         5  \n",
              "\n",
              "[10 rows x 564 columns]"
            ]
          },
          "metadata": {
            "tags": []
          },
          "execution_count": 4
        }
      ]
    },
    {
      "cell_type": "code",
      "metadata": {
        "execution": {
          "iopub.execute_input": "2021-03-25T22:44:10.700660Z",
          "iopub.status.busy": "2021-03-25T22:44:10.699957Z",
          "iopub.status.idle": "2021-03-25T22:44:10.727765Z",
          "shell.execute_reply": "2021-03-25T22:44:10.727114Z"
        },
        "id": "_R0qzhoIbF6G",
        "papermill": {
          "duration": 0.069814,
          "end_time": "2021-03-25T22:44:10.727920",
          "exception": false,
          "start_time": "2021-03-25T22:44:10.658106",
          "status": "completed"
        },
        "tags": []
      },
      "source": [
        "data_train, data_val = train_test_split(data, train_size=0.8, test_size=0.2)\n",
        "\n",
        "train_X = data_train.drop(['id', 'subject', 'activity'], axis=1)\n",
        "train_Y = data_train.activity\n",
        "\n",
        "val_X = data_val.drop(['id', 'subject', 'activity'], axis=1)\n",
        "val_Y = data_val.activity"
      ],
      "execution_count": null,
      "outputs": []
    },
    {
      "cell_type": "code",
      "metadata": {
        "execution": {
          "iopub.execute_input": "2021-03-25T22:44:10.789532Z",
          "iopub.status.busy": "2021-03-25T22:44:10.787857Z",
          "iopub.status.idle": "2021-03-25T22:44:10.794562Z",
          "shell.execute_reply": "2021-03-25T22:44:10.793665Z"
        },
        "id": "gVhF41I1q85z",
        "papermill": {
          "duration": 0.042106,
          "end_time": "2021-03-25T22:44:10.794757",
          "exception": false,
          "start_time": "2021-03-25T22:44:10.752651",
          "status": "completed"
        },
        "tags": [],
        "outputId": "793b673c-e38f-4dcf-fabb-7d72191f6014"
      },
      "source": [
        "activity = data_train.activity.map({1:0, 2:1, 3:2, 4:3, 5:4, 6:5})\n",
        "data_train[\"activity\"] = activity\n",
        "train_Y = to_categorical(data_train['activity'], num_classes=6)\n",
        "\n",
        "activity = data_val.activity.map({1:0, 2:1, 3:2, 4:3, 5:4, 6:5})\n",
        "data_val[\"activity\"] = activity\n",
        "val_Y = to_categorical(data_val['activity'], num_classes=6)"
      ],
      "execution_count": null,
      "outputs": [
        {
          "output_type": "stream",
          "text": [
            "/opt/conda/lib/python3.7/site-packages/ipykernel_launcher.py:2: SettingWithCopyWarning: \n",
            "A value is trying to be set on a copy of a slice from a DataFrame.\n",
            "Try using .loc[row_indexer,col_indexer] = value instead\n",
            "\n",
            "See the caveats in the documentation: https://pandas.pydata.org/pandas-docs/stable/user_guide/indexing.html#returning-a-view-versus-a-copy\n",
            "  \n",
            "/opt/conda/lib/python3.7/site-packages/ipykernel_launcher.py:6: SettingWithCopyWarning: \n",
            "A value is trying to be set on a copy of a slice from a DataFrame.\n",
            "Try using .loc[row_indexer,col_indexer] = value instead\n",
            "\n",
            "See the caveats in the documentation: https://pandas.pydata.org/pandas-docs/stable/user_guide/indexing.html#returning-a-view-versus-a-copy\n",
            "  \n"
          ],
          "name": "stderr"
        }
      ]
    },
    {
      "cell_type": "code",
      "metadata": {
        "execution": {
          "iopub.execute_input": "2021-03-25T22:44:10.850012Z",
          "iopub.status.busy": "2021-03-25T22:44:10.848857Z",
          "iopub.status.idle": "2021-03-25T22:44:10.852812Z",
          "shell.execute_reply": "2021-03-25T22:44:10.853264Z"
        },
        "id": "l-PipzWyzcjo",
        "papermill": {
          "duration": 0.03379,
          "end_time": "2021-03-25T22:44:10.853456",
          "exception": false,
          "start_time": "2021-03-25T22:44:10.819666",
          "status": "completed"
        },
        "tags": [],
        "outputId": "df7d1a86-f389-4690-e1c6-39da2dbde4da"
      },
      "source": [
        "train_X.shape"
      ],
      "execution_count": null,
      "outputs": [
        {
          "output_type": "execute_result",
          "data": {
            "text/plain": [
              "(5881, 561)"
            ]
          },
          "metadata": {
            "tags": []
          },
          "execution_count": 7
        }
      ]
    },
    {
      "cell_type": "code",
      "metadata": {
        "execution": {
          "iopub.execute_input": "2021-03-25T22:44:10.908720Z",
          "iopub.status.busy": "2021-03-25T22:44:10.908020Z",
          "iopub.status.idle": "2021-03-25T22:44:10.910943Z",
          "shell.execute_reply": "2021-03-25T22:44:10.911464Z"
        },
        "id": "293_hXcfWCRY",
        "papermill": {
          "duration": 0.033769,
          "end_time": "2021-03-25T22:44:10.911644",
          "exception": false,
          "start_time": "2021-03-25T22:44:10.877875",
          "status": "completed"
        },
        "tags": []
      },
      "source": [
        "train_X = train_X.values.reshape(-1, 1, 561)\n",
        "val_X  = val_X.values.reshape(-1, 1, 561)\n",
        "train_Y = train_Y.reshape(-1, 1, 6)\n",
        "val_Y = val_Y.reshape(-1, 1, 6)"
      ],
      "execution_count": null,
      "outputs": []
    },
    {
      "cell_type": "markdown",
      "metadata": {
        "id": "Z7h7moZMPSfB",
        "papermill": {
          "duration": 0.024002,
          "end_time": "2021-03-25T22:44:10.960195",
          "exception": false,
          "start_time": "2021-03-25T22:44:10.936193",
          "status": "completed"
        },
        "tags": []
      },
      "source": [
        "##Model"
      ]
    },
    {
      "cell_type": "code",
      "metadata": {
        "execution": {
          "iopub.execute_input": "2021-03-25T22:44:11.018331Z",
          "iopub.status.busy": "2021-03-25T22:44:11.017637Z",
          "iopub.status.idle": "2021-03-25T22:44:11.454076Z",
          "shell.execute_reply": "2021-03-25T22:44:11.453501Z"
        },
        "id": "SC5MZuU09I--",
        "papermill": {
          "duration": 0.469489,
          "end_time": "2021-03-25T22:44:11.454230",
          "exception": false,
          "start_time": "2021-03-25T22:44:10.984741",
          "status": "completed"
        },
        "tags": [],
        "outputId": "8bc99fcb-333a-4a6d-9ba8-0c5be3a9b2e0"
      },
      "source": [
        "model = Sequential()\n",
        "\n",
        "model.add(keras.layers.GRU(256, return_sequences=True))\n",
        "model.add(tf.keras.layers.Bidirectional(LSTM(100, activation='relu', return_sequences=True), input_shape=(1, 561))) # Add in n steps and features\n",
        "model.add(tf.keras.layers.Bidirectional(LSTM(100, activation='relu', return_sequences=True), input_shape=(1, 561)))\n",
        "model.add(Dropout(0.5))\n",
        "model.add(Dense(400, activation='relu'))\n",
        "model.add(Dense(200, activation='relu'))\n",
        "model.add(Dense(100, activation='relu'))\n",
        "model.add(Dense(6, activation='softmax'))\n",
        "\n",
        "model.compile(loss='categorical_crossentropy', optimizer=tf.keras.optimizers.Adam(learning_rate=0.0001, name=\"Adam\"), metrics=['accuracy'])\n",
        "\n",
        "model.summary()"
      ],
      "execution_count": null,
      "outputs": [
        {
          "output_type": "error",
          "ename": "ValueError",
          "evalue": "This model has not yet been built. Build the model first by calling `build()` or calling `fit()` with some data, or specify an `input_shape` argument in the first layer(s) for automatic build.",
          "traceback": [
            "\u001b[0;31m---------------------------------------------------------------------------\u001b[0m",
            "\u001b[0;31mValueError\u001b[0m                                Traceback (most recent call last)",
            "\u001b[0;32m<ipython-input-9-b51e597c8f32>\u001b[0m in \u001b[0;36m<module>\u001b[0;34m\u001b[0m\n\u001b[1;32m     12\u001b[0m \u001b[0mmodel\u001b[0m\u001b[0;34m.\u001b[0m\u001b[0mcompile\u001b[0m\u001b[0;34m(\u001b[0m\u001b[0mloss\u001b[0m\u001b[0;34m=\u001b[0m\u001b[0;34m'categorical_crossentropy'\u001b[0m\u001b[0;34m,\u001b[0m \u001b[0moptimizer\u001b[0m\u001b[0;34m=\u001b[0m\u001b[0mtf\u001b[0m\u001b[0;34m.\u001b[0m\u001b[0mkeras\u001b[0m\u001b[0;34m.\u001b[0m\u001b[0moptimizers\u001b[0m\u001b[0;34m.\u001b[0m\u001b[0mAdam\u001b[0m\u001b[0;34m(\u001b[0m\u001b[0mlearning_rate\u001b[0m\u001b[0;34m=\u001b[0m\u001b[0;36m0.0001\u001b[0m\u001b[0;34m,\u001b[0m \u001b[0mname\u001b[0m\u001b[0;34m=\u001b[0m\u001b[0;34m\"Adam\"\u001b[0m\u001b[0;34m)\u001b[0m\u001b[0;34m,\u001b[0m \u001b[0mmetrics\u001b[0m\u001b[0;34m=\u001b[0m\u001b[0;34m[\u001b[0m\u001b[0;34m'accuracy'\u001b[0m\u001b[0;34m]\u001b[0m\u001b[0;34m)\u001b[0m\u001b[0;34m\u001b[0m\u001b[0;34m\u001b[0m\u001b[0m\n\u001b[1;32m     13\u001b[0m \u001b[0;34m\u001b[0m\u001b[0m\n\u001b[0;32m---> 14\u001b[0;31m \u001b[0mmodel\u001b[0m\u001b[0;34m.\u001b[0m\u001b[0msummary\u001b[0m\u001b[0;34m(\u001b[0m\u001b[0;34m)\u001b[0m\u001b[0;34m\u001b[0m\u001b[0;34m\u001b[0m\u001b[0m\n\u001b[0m",
            "\u001b[0;32m/opt/conda/lib/python3.7/site-packages/tensorflow/python/keras/engine/training.py\u001b[0m in \u001b[0;36msummary\u001b[0;34m(self, line_length, positions, print_fn)\u001b[0m\n\u001b[1;32m   2374\u001b[0m     \"\"\"\n\u001b[1;32m   2375\u001b[0m     \u001b[0;32mif\u001b[0m \u001b[0;32mnot\u001b[0m \u001b[0mself\u001b[0m\u001b[0;34m.\u001b[0m\u001b[0mbuilt\u001b[0m\u001b[0;34m:\u001b[0m\u001b[0;34m\u001b[0m\u001b[0;34m\u001b[0m\u001b[0m\n\u001b[0;32m-> 2376\u001b[0;31m       raise ValueError('This model has not yet been built. '\n\u001b[0m\u001b[1;32m   2377\u001b[0m                        \u001b[0;34m'Build the model first by calling `build()` or calling '\u001b[0m\u001b[0;34m\u001b[0m\u001b[0;34m\u001b[0m\u001b[0m\n\u001b[1;32m   2378\u001b[0m                        \u001b[0;34m'`fit()` with some data, or specify '\u001b[0m\u001b[0;34m\u001b[0m\u001b[0;34m\u001b[0m\u001b[0m\n",
            "\u001b[0;31mValueError\u001b[0m: This model has not yet been built. Build the model first by calling `build()` or calling `fit()` with some data, or specify an `input_shape` argument in the first layer(s) for automatic build."
          ]
        }
      ]
    },
    {
      "cell_type": "code",
      "metadata": {
        "execution": {
          "iopub.execute_input": "2021-03-25T22:44:11.511205Z",
          "iopub.status.busy": "2021-03-25T22:44:11.510516Z",
          "iopub.status.idle": "2021-03-25T22:49:18.417332Z",
          "shell.execute_reply": "2021-03-25T22:49:18.416111Z"
        },
        "id": "-veCXB6v9PRm",
        "papermill": {
          "duration": 306.938313,
          "end_time": "2021-03-25T22:49:18.417563",
          "exception": false,
          "start_time": "2021-03-25T22:44:11.479250",
          "status": "completed"
        },
        "tags": [],
        "outputId": "9da38dc7-e266-4305-b0ad-df5d091e5197"
      },
      "source": [
        "reduce_lr = ReduceLROnPlateau(monitor='val_loss', factor=0.5,\n",
        "                              patience=3, min_lr=0.00001)\n",
        "\n",
        "history = model.fit(train_X, train_Y, batch_size=None, epochs=100, verbose=1, validation_data=(val_X,val_Y))"
      ],
      "execution_count": null,
      "outputs": [
        {
          "output_type": "stream",
          "text": [
            "Epoch 1/100\n",
            "184/184 [==============================] - 10s 21ms/step - loss: 1.5754 - accuracy: 0.3444 - val_loss: 0.6770 - val_accuracy: 0.6873\n",
            "Epoch 2/100\n",
            "184/184 [==============================] - 3s 16ms/step - loss: 0.6396 - accuracy: 0.7029 - val_loss: 0.4742 - val_accuracy: 0.7498\n",
            "Epoch 3/100\n",
            "184/184 [==============================] - 3s 17ms/step - loss: 0.4375 - accuracy: 0.8070 - val_loss: 0.2327 - val_accuracy: 0.9191\n",
            "Epoch 4/100\n",
            "184/184 [==============================] - 3s 15ms/step - loss: 0.2660 - accuracy: 0.8858 - val_loss: 0.3044 - val_accuracy: 0.8715\n",
            "Epoch 5/100\n",
            "184/184 [==============================] - 3s 15ms/step - loss: 0.2123 - accuracy: 0.9193 - val_loss: 0.1321 - val_accuracy: 0.9517\n",
            "Epoch 6/100\n",
            "184/184 [==============================] - 3s 16ms/step - loss: 0.1631 - accuracy: 0.9417 - val_loss: 0.1502 - val_accuracy: 0.9327\n",
            "Epoch 7/100\n",
            "184/184 [==============================] - 3s 18ms/step - loss: 0.1330 - accuracy: 0.9450 - val_loss: 0.0897 - val_accuracy: 0.9613\n",
            "Epoch 8/100\n",
            "184/184 [==============================] - 3s 18ms/step - loss: 0.1224 - accuracy: 0.9530 - val_loss: 0.0687 - val_accuracy: 0.9667\n",
            "Epoch 9/100\n",
            "184/184 [==============================] - 3s 18ms/step - loss: 0.1097 - accuracy: 0.9573 - val_loss: 0.0646 - val_accuracy: 0.9714\n",
            "Epoch 10/100\n",
            "184/184 [==============================] - 4s 21ms/step - loss: 0.0890 - accuracy: 0.9660 - val_loss: 0.0674 - val_accuracy: 0.9687\n",
            "Epoch 11/100\n",
            "184/184 [==============================] - 4s 20ms/step - loss: 0.0937 - accuracy: 0.9607 - val_loss: 0.0759 - val_accuracy: 0.9701\n",
            "Epoch 12/100\n",
            "184/184 [==============================] - 4s 20ms/step - loss: 0.0739 - accuracy: 0.9721 - val_loss: 0.0766 - val_accuracy: 0.9714\n",
            "Epoch 13/100\n",
            "184/184 [==============================] - 4s 20ms/step - loss: 0.0715 - accuracy: 0.9690 - val_loss: 0.0668 - val_accuracy: 0.9735\n",
            "Epoch 14/100\n",
            "184/184 [==============================] - 3s 16ms/step - loss: 0.0730 - accuracy: 0.9732 - val_loss: 0.0747 - val_accuracy: 0.9694\n",
            "Epoch 15/100\n",
            "184/184 [==============================] - 3s 16ms/step - loss: 0.0604 - accuracy: 0.9760 - val_loss: 0.0852 - val_accuracy: 0.9755\n",
            "Epoch 16/100\n",
            "184/184 [==============================] - 3s 16ms/step - loss: 0.0653 - accuracy: 0.9785 - val_loss: 0.0581 - val_accuracy: 0.9742\n",
            "Epoch 17/100\n",
            "184/184 [==============================] - 3s 16ms/step - loss: 0.0663 - accuracy: 0.9739 - val_loss: 0.0638 - val_accuracy: 0.9728\n",
            "Epoch 18/100\n",
            "184/184 [==============================] - 3s 16ms/step - loss: 0.0568 - accuracy: 0.9826 - val_loss: 0.0576 - val_accuracy: 0.9796\n",
            "Epoch 19/100\n",
            "184/184 [==============================] - 3s 16ms/step - loss: 0.0578 - accuracy: 0.9777 - val_loss: 0.0554 - val_accuracy: 0.9735\n",
            "Epoch 20/100\n",
            "184/184 [==============================] - 3s 16ms/step - loss: 0.0524 - accuracy: 0.9803 - val_loss: 0.0593 - val_accuracy: 0.9742\n",
            "Epoch 21/100\n",
            "184/184 [==============================] - 3s 16ms/step - loss: 0.0604 - accuracy: 0.9779 - val_loss: 0.0570 - val_accuracy: 0.9735\n",
            "Epoch 22/100\n",
            "184/184 [==============================] - 3s 16ms/step - loss: 0.0469 - accuracy: 0.9822 - val_loss: 0.0572 - val_accuracy: 0.9735\n",
            "Epoch 23/100\n",
            "184/184 [==============================] - 3s 18ms/step - loss: 0.0451 - accuracy: 0.9852 - val_loss: 0.0591 - val_accuracy: 0.9748\n",
            "Epoch 24/100\n",
            "184/184 [==============================] - 3s 16ms/step - loss: 0.0456 - accuracy: 0.9840 - val_loss: 0.0704 - val_accuracy: 0.9782\n",
            "Epoch 25/100\n",
            "184/184 [==============================] - 3s 16ms/step - loss: 0.0473 - accuracy: 0.9791 - val_loss: 0.0526 - val_accuracy: 0.9769\n",
            "Epoch 26/100\n",
            "184/184 [==============================] - 3s 16ms/step - loss: 0.0528 - accuracy: 0.9797 - val_loss: 0.0844 - val_accuracy: 0.9721\n",
            "Epoch 27/100\n",
            "184/184 [==============================] - 3s 16ms/step - loss: 0.0494 - accuracy: 0.9817 - val_loss: 0.0596 - val_accuracy: 0.9735\n",
            "Epoch 28/100\n",
            "184/184 [==============================] - 3s 16ms/step - loss: 0.0623 - accuracy: 0.9764 - val_loss: 0.0765 - val_accuracy: 0.9748\n",
            "Epoch 29/100\n",
            "184/184 [==============================] - 3s 16ms/step - loss: 0.0546 - accuracy: 0.9743 - val_loss: 0.0659 - val_accuracy: 0.9714\n",
            "Epoch 30/100\n",
            "184/184 [==============================] - 3s 16ms/step - loss: 0.0511 - accuracy: 0.9809 - val_loss: 0.0492 - val_accuracy: 0.9789\n",
            "Epoch 31/100\n",
            "184/184 [==============================] - 3s 16ms/step - loss: 0.0428 - accuracy: 0.9844 - val_loss: 0.0482 - val_accuracy: 0.9776\n",
            "Epoch 32/100\n",
            "184/184 [==============================] - 3s 16ms/step - loss: 0.0321 - accuracy: 0.9888 - val_loss: 0.0537 - val_accuracy: 0.9762\n",
            "Epoch 33/100\n",
            "184/184 [==============================] - 3s 16ms/step - loss: 0.0543 - accuracy: 0.9809 - val_loss: 0.0590 - val_accuracy: 0.9742\n",
            "Epoch 34/100\n",
            "184/184 [==============================] - 3s 17ms/step - loss: 0.0487 - accuracy: 0.9806 - val_loss: 0.0572 - val_accuracy: 0.9816\n",
            "Epoch 35/100\n",
            "184/184 [==============================] - 3s 16ms/step - loss: 0.0387 - accuracy: 0.9836 - val_loss: 0.0499 - val_accuracy: 0.9796\n",
            "Epoch 36/100\n",
            "184/184 [==============================] - 3s 16ms/step - loss: 0.0353 - accuracy: 0.9871 - val_loss: 0.0484 - val_accuracy: 0.9816\n",
            "Epoch 37/100\n",
            "184/184 [==============================] - 3s 16ms/step - loss: 0.0413 - accuracy: 0.9878 - val_loss: 0.0551 - val_accuracy: 0.9789\n",
            "Epoch 38/100\n",
            "184/184 [==============================] - 3s 16ms/step - loss: 0.0332 - accuracy: 0.9862 - val_loss: 0.0728 - val_accuracy: 0.9782\n",
            "Epoch 39/100\n",
            "184/184 [==============================] - 3s 16ms/step - loss: 0.0520 - accuracy: 0.9796 - val_loss: 0.1389 - val_accuracy: 0.9517\n",
            "Epoch 40/100\n",
            "184/184 [==============================] - 3s 16ms/step - loss: 0.0364 - accuracy: 0.9881 - val_loss: 0.0894 - val_accuracy: 0.9687\n",
            "Epoch 41/100\n",
            "184/184 [==============================] - 3s 16ms/step - loss: 0.0507 - accuracy: 0.9798 - val_loss: 0.0477 - val_accuracy: 0.9782\n",
            "Epoch 42/100\n",
            "184/184 [==============================] - 3s 16ms/step - loss: 0.0296 - accuracy: 0.9900 - val_loss: 0.1220 - val_accuracy: 0.9599\n",
            "Epoch 43/100\n",
            "184/184 [==============================] - 3s 16ms/step - loss: 0.0460 - accuracy: 0.9845 - val_loss: 0.0704 - val_accuracy: 0.9728\n",
            "Epoch 44/100\n",
            "184/184 [==============================] - 3s 16ms/step - loss: 0.0410 - accuracy: 0.9840 - val_loss: 0.0678 - val_accuracy: 0.9762\n",
            "Epoch 45/100\n",
            "184/184 [==============================] - 3s 17ms/step - loss: 0.0298 - accuracy: 0.9909 - val_loss: 0.0506 - val_accuracy: 0.9769\n",
            "Epoch 46/100\n",
            "184/184 [==============================] - 3s 16ms/step - loss: 0.0296 - accuracy: 0.9885 - val_loss: 0.0628 - val_accuracy: 0.9762\n",
            "Epoch 47/100\n",
            "184/184 [==============================] - 3s 15ms/step - loss: 0.0410 - accuracy: 0.9865 - val_loss: 0.0726 - val_accuracy: 0.9789\n",
            "Epoch 48/100\n",
            "184/184 [==============================] - 3s 16ms/step - loss: 0.0355 - accuracy: 0.9865 - val_loss: 0.0557 - val_accuracy: 0.9769\n",
            "Epoch 49/100\n",
            "184/184 [==============================] - 3s 16ms/step - loss: 0.0425 - accuracy: 0.9845 - val_loss: 0.0574 - val_accuracy: 0.9776\n",
            "Epoch 50/100\n",
            "184/184 [==============================] - 3s 16ms/step - loss: 0.0425 - accuracy: 0.9854 - val_loss: 0.0462 - val_accuracy: 0.9796\n",
            "Epoch 51/100\n",
            "184/184 [==============================] - 3s 16ms/step - loss: 0.0276 - accuracy: 0.9882 - val_loss: 0.0409 - val_accuracy: 0.9864\n",
            "Epoch 52/100\n",
            "184/184 [==============================] - 3s 16ms/step - loss: 0.0313 - accuracy: 0.9901 - val_loss: 0.0658 - val_accuracy: 0.9769\n",
            "Epoch 53/100\n",
            "184/184 [==============================] - 3s 16ms/step - loss: 0.0314 - accuracy: 0.9873 - val_loss: 0.0477 - val_accuracy: 0.9789\n",
            "Epoch 54/100\n",
            "184/184 [==============================] - 3s 16ms/step - loss: 0.0324 - accuracy: 0.9884 - val_loss: 0.0419 - val_accuracy: 0.9796\n",
            "Epoch 55/100\n",
            "184/184 [==============================] - 3s 16ms/step - loss: 0.0454 - accuracy: 0.9849 - val_loss: 0.0458 - val_accuracy: 0.9823\n",
            "Epoch 56/100\n",
            "184/184 [==============================] - 3s 16ms/step - loss: 0.0319 - accuracy: 0.9872 - val_loss: 0.1445 - val_accuracy: 0.9572\n",
            "Epoch 57/100\n",
            "184/184 [==============================] - 3s 17ms/step - loss: 0.0582 - accuracy: 0.9794 - val_loss: 0.0399 - val_accuracy: 0.9830\n",
            "Epoch 58/100\n",
            "184/184 [==============================] - 3s 16ms/step - loss: 0.0251 - accuracy: 0.9912 - val_loss: 0.0409 - val_accuracy: 0.9864\n",
            "Epoch 59/100\n",
            "184/184 [==============================] - 3s 16ms/step - loss: 0.0288 - accuracy: 0.9877 - val_loss: 0.0418 - val_accuracy: 0.9803\n",
            "Epoch 60/100\n",
            "184/184 [==============================] - 3s 16ms/step - loss: 0.0239 - accuracy: 0.9914 - val_loss: 0.0474 - val_accuracy: 0.9782\n",
            "Epoch 61/100\n",
            "184/184 [==============================] - 3s 16ms/step - loss: 0.0242 - accuracy: 0.9909 - val_loss: 0.0491 - val_accuracy: 0.9816\n",
            "Epoch 62/100\n",
            "184/184 [==============================] - 3s 16ms/step - loss: 0.0203 - accuracy: 0.9934 - val_loss: 0.0819 - val_accuracy: 0.9714\n",
            "Epoch 63/100\n",
            "184/184 [==============================] - 3s 16ms/step - loss: 0.0285 - accuracy: 0.9891 - val_loss: 0.0539 - val_accuracy: 0.9769\n",
            "Epoch 64/100\n",
            "184/184 [==============================] - 3s 16ms/step - loss: 0.0308 - accuracy: 0.9887 - val_loss: 0.0343 - val_accuracy: 0.9844\n",
            "Epoch 65/100\n",
            "184/184 [==============================] - 3s 16ms/step - loss: 0.0244 - accuracy: 0.9913 - val_loss: 0.0608 - val_accuracy: 0.9830\n",
            "Epoch 66/100\n",
            "184/184 [==============================] - 3s 16ms/step - loss: 0.0309 - accuracy: 0.9881 - val_loss: 0.0448 - val_accuracy: 0.9803\n",
            "Epoch 67/100\n",
            "184/184 [==============================] - 3s 15ms/step - loss: 0.0186 - accuracy: 0.9934 - val_loss: 0.0432 - val_accuracy: 0.9810\n",
            "Epoch 68/100\n",
            "184/184 [==============================] - 3s 17ms/step - loss: 0.0254 - accuracy: 0.9908 - val_loss: 0.0530 - val_accuracy: 0.9830\n",
            "Epoch 69/100\n",
            "184/184 [==============================] - 3s 16ms/step - loss: 0.0180 - accuracy: 0.9913 - val_loss: 0.0352 - val_accuracy: 0.9837\n",
            "Epoch 70/100\n",
            "184/184 [==============================] - 3s 17ms/step - loss: 0.0185 - accuracy: 0.9915 - val_loss: 0.0759 - val_accuracy: 0.9735\n",
            "Epoch 71/100\n",
            "184/184 [==============================] - 3s 16ms/step - loss: 0.0295 - accuracy: 0.9870 - val_loss: 0.0614 - val_accuracy: 0.9782\n",
            "Epoch 72/100\n",
            "184/184 [==============================] - 3s 16ms/step - loss: 0.0379 - accuracy: 0.9887 - val_loss: 0.0400 - val_accuracy: 0.9844\n",
            "Epoch 73/100\n",
            "184/184 [==============================] - 3s 15ms/step - loss: 0.0188 - accuracy: 0.9926 - val_loss: 0.0655 - val_accuracy: 0.9823\n",
            "Epoch 74/100\n",
            "184/184 [==============================] - 3s 15ms/step - loss: 0.0212 - accuracy: 0.9911 - val_loss: 0.0340 - val_accuracy: 0.9878\n",
            "Epoch 75/100\n",
            "184/184 [==============================] - 3s 15ms/step - loss: 0.0216 - accuracy: 0.9904 - val_loss: 0.0376 - val_accuracy: 0.9830\n",
            "Epoch 76/100\n",
            "184/184 [==============================] - 3s 16ms/step - loss: 0.0176 - accuracy: 0.9942 - val_loss: 0.1614 - val_accuracy: 0.9646\n",
            "Epoch 77/100\n",
            "184/184 [==============================] - 3s 16ms/step - loss: 0.0377 - accuracy: 0.9898 - val_loss: 0.0403 - val_accuracy: 0.9810\n",
            "Epoch 78/100\n",
            "184/184 [==============================] - 3s 16ms/step - loss: 0.0193 - accuracy: 0.9922 - val_loss: 0.0441 - val_accuracy: 0.9844\n",
            "Epoch 79/100\n",
            "184/184 [==============================] - 3s 16ms/step - loss: 0.0171 - accuracy: 0.9943 - val_loss: 0.0412 - val_accuracy: 0.9837\n",
            "Epoch 80/100\n",
            "184/184 [==============================] - 3s 16ms/step - loss: 0.0130 - accuracy: 0.9948 - val_loss: 0.0890 - val_accuracy: 0.9762\n",
            "Epoch 81/100\n",
            "184/184 [==============================] - 3s 17ms/step - loss: 0.0330 - accuracy: 0.9851 - val_loss: 0.1388 - val_accuracy: 0.9660\n",
            "Epoch 82/100\n",
            "184/184 [==============================] - 3s 16ms/step - loss: 0.0646 - accuracy: 0.9803 - val_loss: 0.0543 - val_accuracy: 0.9850\n",
            "Epoch 83/100\n",
            "184/184 [==============================] - 3s 16ms/step - loss: 0.0219 - accuracy: 0.9899 - val_loss: 0.0414 - val_accuracy: 0.9844\n",
            "Epoch 84/100\n",
            "184/184 [==============================] - 3s 16ms/step - loss: 0.0261 - accuracy: 0.9895 - val_loss: 0.0662 - val_accuracy: 0.9796\n",
            "Epoch 85/100\n",
            "184/184 [==============================] - 3s 16ms/step - loss: 0.0181 - accuracy: 0.9938 - val_loss: 0.0491 - val_accuracy: 0.9844\n",
            "Epoch 86/100\n",
            "184/184 [==============================] - 3s 16ms/step - loss: 0.0195 - accuracy: 0.9928 - val_loss: 0.0680 - val_accuracy: 0.9782\n",
            "Epoch 87/100\n",
            "184/184 [==============================] - 3s 16ms/step - loss: 0.0177 - accuracy: 0.9939 - val_loss: 0.0650 - val_accuracy: 0.9776\n",
            "Epoch 88/100\n",
            "184/184 [==============================] - 3s 16ms/step - loss: 0.0199 - accuracy: 0.9915 - val_loss: 0.0512 - val_accuracy: 0.9844\n",
            "Epoch 89/100\n",
            "184/184 [==============================] - 3s 16ms/step - loss: 0.0190 - accuracy: 0.9938 - val_loss: 0.0623 - val_accuracy: 0.9789\n",
            "Epoch 90/100\n",
            "184/184 [==============================] - 3s 17ms/step - loss: 0.0148 - accuracy: 0.9933 - val_loss: 0.0678 - val_accuracy: 0.9803\n",
            "Epoch 91/100\n",
            "184/184 [==============================] - 3s 16ms/step - loss: 0.0124 - accuracy: 0.9948 - val_loss: 0.0411 - val_accuracy: 0.9891\n",
            "Epoch 92/100\n",
            "184/184 [==============================] - 3s 17ms/step - loss: 0.0076 - accuracy: 0.9973 - val_loss: 0.0556 - val_accuracy: 0.9837\n",
            "Epoch 93/100\n",
            "184/184 [==============================] - 3s 16ms/step - loss: 0.0297 - accuracy: 0.9894 - val_loss: 0.0449 - val_accuracy: 0.9810\n",
            "Epoch 94/100\n",
            "184/184 [==============================] - 3s 16ms/step - loss: 0.0150 - accuracy: 0.9938 - val_loss: 0.0683 - val_accuracy: 0.9810\n",
            "Epoch 95/100\n",
            "184/184 [==============================] - 3s 16ms/step - loss: 0.0106 - accuracy: 0.9951 - val_loss: 0.0632 - val_accuracy: 0.9850\n",
            "Epoch 96/100\n",
            "184/184 [==============================] - 3s 16ms/step - loss: 0.0371 - accuracy: 0.9841 - val_loss: 0.0384 - val_accuracy: 0.9878\n",
            "Epoch 97/100\n",
            "184/184 [==============================] - 3s 15ms/step - loss: 0.0114 - accuracy: 0.9955 - val_loss: 0.0351 - val_accuracy: 0.9864\n",
            "Epoch 98/100\n",
            "184/184 [==============================] - 3s 16ms/step - loss: 0.0082 - accuracy: 0.9978 - val_loss: 0.0459 - val_accuracy: 0.9837\n",
            "Epoch 99/100\n",
            "184/184 [==============================] - 3s 16ms/step - loss: 0.0074 - accuracy: 0.9970 - val_loss: 0.1188 - val_accuracy: 0.9755\n",
            "Epoch 100/100\n",
            "184/184 [==============================] - 3s 16ms/step - loss: 0.0421 - accuracy: 0.9881 - val_loss: 0.0522 - val_accuracy: 0.9864\n"
          ],
          "name": "stdout"
        }
      ]
    },
    {
      "cell_type": "markdown",
      "metadata": {
        "id": "GRxfZnyFQEmv",
        "papermill": {
          "duration": 1.520733,
          "end_time": "2021-03-25T22:49:21.424663",
          "exception": false,
          "start_time": "2021-03-25T22:49:19.903930",
          "status": "completed"
        },
        "tags": []
      },
      "source": [
        "###Plots"
      ]
    },
    {
      "cell_type": "code",
      "metadata": {
        "execution": {
          "iopub.execute_input": "2021-03-25T22:49:24.477139Z",
          "iopub.status.busy": "2021-03-25T22:49:24.475255Z",
          "iopub.status.idle": "2021-03-25T22:49:24.902597Z",
          "shell.execute_reply": "2021-03-25T22:49:24.903124Z"
        },
        "id": "5J1_ccpFQ1Us",
        "papermill": {
          "duration": 2.016852,
          "end_time": "2021-03-25T22:49:24.903298",
          "exception": false,
          "start_time": "2021-03-25T22:49:22.886446",
          "status": "completed"
        },
        "tags": [],
        "outputId": "9a30ddd6-2b7f-4002-b3f7-e035582988fd"
      },
      "source": [
        "fig, axes = plt.subplots(1,2, figsize=(18, 6))\n",
        "# Plot training & validation accuracy values\n",
        "axes[0].plot(history.history['accuracy'])\n",
        "axes[0].plot(history.history['val_accuracy'])\n",
        "axes[0].set_title('Model accuracy')\n",
        "axes[0].set_ylabel('Accuracy')\n",
        "axes[0].set_xlabel('Epoch')\n",
        "axes[0].legend(['Train', 'Validation'], loc='upper left')\n",
        "\n",
        "# Plot training & validation loss values\n",
        "axes[1].plot(history.history['loss'])\n",
        "axes[1].plot(history.history['val_loss'])\n",
        "axes[1].set_title('Model loss')\n",
        "axes[1].set_ylabel('Loss')\n",
        "axes[1].set_xlabel('Epoch')\n",
        "axes[1].legend(['Train', 'Validation'], loc='upper left')\n",
        "plt.show()"
      ],
      "execution_count": null,
      "outputs": [
        {
          "output_type": "display_data",
          "data": {
            "image/png": "[encoded data removed]",
            "text/plain": [
              "<Figure size 1296x432 with 2 Axes>"
            ]
          },
          "metadata": {
            "tags": [],
            "needs_background": "light"
          }
        }
      ]
    },
    {
      "cell_type": "markdown",
      "metadata": {
        "id": "PzMn6SpiOviJ",
        "papermill": {
          "duration": 1.492438,
          "end_time": "2021-03-25T22:49:27.884688",
          "exception": false,
          "start_time": "2021-03-25T22:49:26.392250",
          "status": "completed"
        },
        "tags": []
      },
      "source": [
        "\n",
        "#SVM\n"
      ]
    },
    {
      "cell_type": "code",
      "metadata": {
        "execution": {
          "iopub.execute_input": "2021-03-25T22:49:30.837902Z",
          "iopub.status.busy": "2021-03-25T22:49:30.837204Z",
          "iopub.status.idle": "2021-03-25T22:49:30.839420Z",
          "shell.execute_reply": "2021-03-25T22:49:30.840033Z"
        },
        "id": "FXJgIgAlO4sI",
        "papermill": {
          "duration": 1.4764,
          "end_time": "2021-03-25T22:49:30.840239",
          "exception": false,
          "start_time": "2021-03-25T22:49:29.363839",
          "status": "completed"
        },
        "tags": []
      },
      "source": [
        "RFtrain_X = train_X.reshape(-1, 561)\n",
        "RFval_X  = val_X.reshape(-1, 561)\n",
        "RFtrain_Y = train_Y.reshape(-1, 6)\n",
        "RFval_Y = val_Y.reshape(-1, 6)"
      ],
      "execution_count": null,
      "outputs": []
    },
    {
      "cell_type": "code",
      "metadata": {
        "execution": {
          "iopub.execute_input": "2021-03-25T22:49:33.845191Z",
          "iopub.status.busy": "2021-03-25T22:49:33.844509Z",
          "iopub.status.idle": "2021-03-25T22:49:34.863832Z",
          "shell.execute_reply": "2021-03-25T22:49:34.863080Z"
        },
        "id": "D3-V3zGGP3El",
        "papermill": {
          "duration": 2.506376,
          "end_time": "2021-03-25T22:49:34.864002",
          "exception": false,
          "start_time": "2021-03-25T22:49:32.357626",
          "status": "completed"
        },
        "tags": [],
        "outputId": "fdb4747e-03fa-4b33-acc5-e786959722a0"
      },
      "source": [
        "from sklearn import svm\n",
        "clf2 = svm.SVC(kernel='poly',verbose=True,random_state=0,C=4)\n",
        "clf2.fit(RFtrain_X, data_train.activity)"
      ],
      "execution_count": null,
      "outputs": [
        {
          "output_type": "stream",
          "text": [
            "[LibSVM]"
          ],
          "name": "stdout"
        },
        {
          "output_type": "execute_result",
          "data": {
            "text/plain": [
              "SVC(C=4, kernel='poly', random_state=0, verbose=True)"
            ]
          },
          "metadata": {
            "tags": []
          },
          "execution_count": 13
        }
      ]
    },
    {
      "cell_type": "code",
      "metadata": {
        "execution": {
          "iopub.execute_input": "2021-03-25T22:49:37.926941Z",
          "iopub.status.busy": "2021-03-25T22:49:37.926263Z",
          "iopub.status.idle": "2021-03-25T22:49:39.156569Z",
          "shell.execute_reply": "2021-03-25T22:49:39.155996Z"
        },
        "id": "VqkxE2VeWAS7",
        "papermill": {
          "duration": 2.779991,
          "end_time": "2021-03-25T22:49:39.156730",
          "exception": false,
          "start_time": "2021-03-25T22:49:36.376739",
          "status": "completed"
        },
        "tags": [],
        "outputId": "1b2c3d9a-c1e1-4112-acc9-8f988894f227"
      },
      "source": [
        "from sklearn import svm\n",
        "clf3 = svm.SVC(verbose=True,random_state=0,C=5)\n",
        "clf3.fit(RFtrain_X, data_train.activity)"
      ],
      "execution_count": null,
      "outputs": [
        {
          "output_type": "stream",
          "text": [
            "[LibSVM]"
          ],
          "name": "stdout"
        },
        {
          "output_type": "execute_result",
          "data": {
            "text/plain": [
              "SVC(C=5, random_state=0, verbose=True)"
            ]
          },
          "metadata": {
            "tags": []
          },
          "execution_count": 14
        }
      ]
    },
    {
      "cell_type": "code",
      "metadata": {
        "execution": {
          "iopub.execute_input": "2021-03-25T22:49:42.152087Z",
          "iopub.status.busy": "2021-03-25T22:49:42.151338Z",
          "iopub.status.idle": "2021-03-25T22:49:43.009938Z",
          "shell.execute_reply": "2021-03-25T22:49:43.009332Z"
        },
        "id": "EaJfIE5XWA1N",
        "papermill": {
          "duration": 2.330593,
          "end_time": "2021-03-25T22:49:43.010099",
          "exception": false,
          "start_time": "2021-03-25T22:49:40.679506",
          "status": "completed"
        },
        "tags": [],
        "outputId": "58bdd13f-e1d7-42c1-b49e-e98b705bf31d"
      },
      "source": [
        "from sklearn import svm\n",
        "clf1 = svm.SVC(kernel='linear',verbose=True,random_state=0,C=3)\n",
        "clf1.fit(RFtrain_X, data_train.activity)"
      ],
      "execution_count": null,
      "outputs": [
        {
          "output_type": "stream",
          "text": [
            "[LibSVM]"
          ],
          "name": "stdout"
        },
        {
          "output_type": "execute_result",
          "data": {
            "text/plain": [
              "SVC(C=3, kernel='linear', random_state=0, verbose=True)"
            ]
          },
          "metadata": {
            "tags": []
          },
          "execution_count": 15
        }
      ]
    },
    {
      "cell_type": "code",
      "metadata": {
        "execution": {
          "iopub.execute_input": "2021-03-25T22:49:45.960112Z",
          "iopub.status.busy": "2021-03-25T22:49:45.959158Z",
          "iopub.status.idle": "2021-03-25T22:49:46.915110Z",
          "shell.execute_reply": "2021-03-25T22:49:46.914549Z"
        },
        "id": "9Zj38FmEP5ha",
        "papermill": {
          "duration": 2.428045,
          "end_time": "2021-03-25T22:49:46.915272",
          "exception": false,
          "start_time": "2021-03-25T22:49:44.487227",
          "status": "completed"
        },
        "tags": [],
        "outputId": "607aabc5-25d1-49e1-ea42-da8361783623"
      },
      "source": [
        "print(clf1.score(RFtrain_X, data_train.activity))\n",
        "print(clf1.score(RFval_X, data_val.activity))"
      ],
      "execution_count": null,
      "outputs": [
        {
          "output_type": "stream",
          "text": [
            "0.9959190613841183\n",
            "0.9836845683208701\n"
          ],
          "name": "stdout"
        }
      ]
    },
    {
      "cell_type": "code",
      "metadata": {
        "execution": {
          "iopub.execute_input": "2021-03-25T22:49:49.921947Z",
          "iopub.status.busy": "2021-03-25T22:49:49.921251Z",
          "iopub.status.idle": "2021-03-25T22:49:54.905962Z",
          "shell.execute_reply": "2021-03-25T22:49:54.905314Z"
        },
        "id": "SEGFAZSlP9SD",
        "papermill": {
          "duration": 6.517009,
          "end_time": "2021-03-25T22:49:54.906103",
          "exception": false,
          "start_time": "2021-03-25T22:49:48.389094",
          "status": "completed"
        },
        "tags": [],
        "outputId": "b190ea20-9e72-417b-9ff2-57c5c4c026e3"
      },
      "source": [
        "from sklearn.metrics import confusion_matrix\n",
        "print(confusion_matrix(data_train.activity,clf3.predict(RFtrain_X)) )\n",
        "print(confusion_matrix(data_val.activity,clf3.predict(RFval_X)) )"
      ],
      "execution_count": null,
      "outputs": [
        {
          "output_type": "stream",
          "text": [
            "[[ 972    0    0    0    0    0]\n",
            " [   0  846    0    0    0    0]\n",
            " [   0    0  794    0    0    0]\n",
            " [   0    0    0  990   22    0]\n",
            " [   0    0    0   26 1106    0]\n",
            " [   0    0    0    0    0 1125]]\n",
            "[[254   0   0   0   0   0]\n",
            " [  0 227   0   0   0   0]\n",
            " [  0   0 192   0   0   0]\n",
            " [  0   1   0 263  10   0]\n",
            " [  0   0   0  15 227   0]\n",
            " [  0   0   0   0   0 282]]\n"
          ],
          "name": "stdout"
        }
      ]
    },
    {
      "cell_type": "code",
      "metadata": {
        "execution": {
          "iopub.execute_input": "2021-03-25T22:49:57.905452Z",
          "iopub.status.busy": "2021-03-25T22:49:57.904783Z",
          "iopub.status.idle": "2021-03-25T22:50:01.398084Z",
          "shell.execute_reply": "2021-03-25T22:50:01.397363Z"
        },
        "id": "lqOsupLqQAAZ",
        "papermill": {
          "duration": 5.012464,
          "end_time": "2021-03-25T22:50:01.398238",
          "exception": false,
          "start_time": "2021-03-25T22:49:56.385774",
          "status": "completed"
        },
        "tags": []
      },
      "source": [
        "dat = pd.read_csv('/kaggle/input/human-activity-recognition-with-rnn/test.csv')\n",
        "submission = pd.DataFrame(dat, columns = ['id'])\n",
        "test_X = dat.drop([ 'id','subject'], axis=1)\n",
        "p3=clf3.predict(test_X)+1\n",
        "p2=clf2.predict(test_X)+1\n",
        "p1=clf1.predict(test_X)+1\n",
        "\n",
        "p=np.zeros((np.array(p1).shape[0],3))\n",
        "p[:,0]=np.array(p1)\n",
        "p[:,1]=np.array(p2)\n",
        "p[:,2]=np.array(p3)\n",
        "from scipy import stats\n",
        "modeResult=stats.mode(p,axis=1)\n",
        "pfin=modeResult.mode\n",
        "\n",
        "res = pd.DataFrame(pfin,dtype=int)  \n",
        "submission['activity'] = res"
      ],
      "execution_count": null,
      "outputs": []
    },
    {
      "cell_type": "code",
      "metadata": {
        "execution": {
          "iopub.execute_input": "2021-03-25T22:50:04.342190Z",
          "iopub.status.busy": "2021-03-25T22:50:04.341455Z",
          "iopub.status.idle": "2021-03-25T22:50:04.359075Z",
          "shell.execute_reply": "2021-03-25T22:50:04.357604Z"
        },
        "id": "NyeaHzOnU_br",
        "papermill": {
          "duration": 1.490613,
          "end_time": "2021-03-25T22:50:04.359240",
          "exception": false,
          "start_time": "2021-03-25T22:50:02.868627",
          "status": "completed"
        },
        "tags": []
      },
      "source": [
        "submission.to_csv('submission.csv', index=False)"
      ],
      "execution_count": null,
      "outputs": []
    },
    {
      "cell_type": "markdown",
      "metadata": {
        "id": "w5lJhuOoQbk_",
        "papermill": {
          "duration": 1.483775,
          "end_time": "2021-03-25T22:50:07.354544",
          "exception": false,
          "start_time": "2021-03-25T22:50:05.870769",
          "status": "completed"
        },
        "tags": []
      },
      "source": [
        "#Time Series"
      ]
    },
    {
      "cell_type": "code",
      "metadata": {
        "execution": {
          "iopub.execute_input": "2021-03-25T22:50:10.368987Z",
          "iopub.status.busy": "2021-03-25T22:50:10.368285Z",
          "iopub.status.idle": "2021-03-25T22:50:10.371524Z",
          "shell.execute_reply": "2021-03-25T22:50:10.370866Z"
        },
        "id": "uY9JvsiCQhBb",
        "papermill": {
          "duration": 1.492758,
          "end_time": "2021-03-25T22:50:10.371718",
          "exception": false,
          "start_time": "2021-03-25T22:50:08.878960",
          "status": "completed"
        },
        "tags": []
      },
      "source": [
        "cfin=np.array(pfin,dtype=int).reshape(pfin.shape[0])\n",
        "count=np.zeros(6)\n",
        "for i in range(cfin.shape[0]-3):\n",
        "  if (i>1):\n",
        "    if cfin[i]!=cfin[i-1] and cfin[i-1]==cfin[i+1] and (cfin[i-1]==cfin[i-2] or cfin[i+1]==cfin[i+2]) :\n",
        "      cfin[i]=cfin[i-1]\n",
        "      count[cfin[i]-1]=count[cfin[i]-1]+1\n",
        "    if cfin[i]!=cfin[i-1] and cfin[i+1]!=cfin[i+2] and cfin[i-1]==cfin[i+2] and (cfin[i-1]==cfin[i-2] or cfin[i+2]==cfin[i+3]):  \n",
        "      cfin[i+1]=cfin[i+2]\n",
        "      cfin[i]=cfin[i-1]\n"
      ],
      "execution_count": null,
      "outputs": []
    },
    {
      "cell_type": "code",
      "metadata": {
        "execution": {
          "iopub.execute_input": "2021-03-25T22:50:13.370811Z",
          "iopub.status.busy": "2021-03-25T22:50:13.370137Z",
          "iopub.status.idle": "2021-03-25T22:50:13.382421Z",
          "shell.execute_reply": "2021-03-25T22:50:13.383030Z"
        },
        "id": "RJY_sCzMYW4L",
        "papermill": {
          "duration": 1.539464,
          "end_time": "2021-03-25T22:50:13.383221",
          "exception": false,
          "start_time": "2021-03-25T22:50:11.843757",
          "status": "completed"
        },
        "tags": []
      },
      "source": [
        "res = pd.DataFrame(cfin,dtype=int)  \n",
        "submission['activity'] = res\n",
        "submission.to_csv('submission.csv', index=False)"
      ],
      "execution_count": null,
      "outputs": []
    },
    {
      "cell_type": "markdown",
      "metadata": {
        "id": "o053xknkPh-o",
        "papermill": {
          "duration": 1.492056,
          "end_time": "2021-03-25T22:50:16.355514",
          "exception": false,
          "start_time": "2021-03-25T22:50:14.863458",
          "status": "completed"
        },
        "tags": []
      },
      "source": [
        "##Submission"
      ]
    },
    {
      "cell_type": "code",
      "metadata": {
        "execution": {
          "iopub.execute_input": "2021-03-25T22:50:19.409407Z",
          "iopub.status.busy": "2021-03-25T22:50:19.408693Z",
          "iopub.status.idle": "2021-03-25T22:50:19.451628Z",
          "shell.execute_reply": "2021-03-25T22:50:19.452111Z"
        },
        "id": "jwDfQejL5_iR",
        "papermill": {
          "duration": 1.610502,
          "end_time": "2021-03-25T22:50:19.452302",
          "exception": false,
          "start_time": "2021-03-25T22:50:17.841800",
          "status": "completed"
        },
        "tags": []
      },
      "source": [
        "model.save_weights(\"trial_model.h5\")"
      ],
      "execution_count": null,
      "outputs": []
    },
    {
      "cell_type": "code",
      "metadata": {
        "execution": {
          "iopub.execute_input": "2021-03-25T22:50:22.421256Z",
          "iopub.status.busy": "2021-03-25T22:50:22.420641Z",
          "iopub.status.idle": "2021-03-25T22:50:22.856217Z",
          "shell.execute_reply": "2021-03-25T22:50:22.855515Z"
        },
        "id": "kHM3iH_f6GE3",
        "papermill": {
          "duration": 1.921339,
          "end_time": "2021-03-25T22:50:22.856362",
          "exception": false,
          "start_time": "2021-03-25T22:50:20.935023",
          "status": "completed"
        },
        "tags": []
      },
      "source": [
        "test_data = pd.read_csv('/kaggle/input/human-activity-recognition-with-rnn/test.csv')"
      ],
      "execution_count": null,
      "outputs": []
    },
    {
      "cell_type": "code",
      "metadata": {
        "execution": {
          "iopub.execute_input": "2021-03-25T22:50:25.856899Z",
          "iopub.status.busy": "2021-03-25T22:50:25.856212Z",
          "iopub.status.idle": "2021-03-25T22:50:25.875797Z",
          "shell.execute_reply": "2021-03-25T22:50:25.875002Z"
        },
        "id": "4rkmZ2pYKR9m",
        "papermill": {
          "duration": 1.487475,
          "end_time": "2021-03-25T22:50:25.875975",
          "exception": false,
          "start_time": "2021-03-25T22:50:24.388500",
          "status": "completed"
        },
        "tags": [],
        "outputId": "6a5f0560-1750-4147-8fd6-12de71bb7d32"
      },
      "source": [
        "print(test_data)"
      ],
      "execution_count": null,
      "outputs": [
        {
          "output_type": "stream",
          "text": [
            "        id  tBodyAcc-mean()-X  tBodyAcc-mean()-Y  tBodyAcc-mean()-Z  \\\n",
            "0        0           0.257178          -0.023285          -0.014654   \n",
            "1        1           0.286027          -0.013163          -0.119083   \n",
            "2        2           0.275485          -0.026050          -0.118152   \n",
            "3        3           0.270298          -0.032614          -0.117520   \n",
            "4        4           0.274833          -0.027848          -0.129527   \n",
            "...    ...                ...                ...                ...   \n",
            "2942  2942           0.310155          -0.053391          -0.099109   \n",
            "2943  2943           0.363385          -0.039214          -0.105915   \n",
            "2944  2944           0.349966           0.030077          -0.115788   \n",
            "2945  2945           0.237594           0.018467          -0.096499   \n",
            "2946  2946           0.153627          -0.018437          -0.137018   \n",
            "\n",
            "      tBodyAcc-std()-X  tBodyAcc-std()-Y  tBodyAcc-std()-Z  tBodyAcc-mad()-X  \\\n",
            "0            -0.938404         -0.920091         -0.667683         -0.952501   \n",
            "1            -0.975415         -0.967458         -0.944958         -0.986799   \n",
            "2            -0.993819         -0.969926         -0.962748         -0.994403   \n",
            "3            -0.994743         -0.973268         -0.967091         -0.995274   \n",
            "4            -0.993852         -0.967445         -0.978295         -0.994111   \n",
            "...                ...               ...               ...               ...   \n",
            "2942         -0.287866         -0.140589         -0.215088         -0.356083   \n",
            "2943         -0.305388          0.028148         -0.196373         -0.373540   \n",
            "2944         -0.329638         -0.042143         -0.250181         -0.388017   \n",
            "2945         -0.323114         -0.229775         -0.207574         -0.392380   \n",
            "2946         -0.330046         -0.195253         -0.164339         -0.430974   \n",
            "\n",
            "      tBodyAcc-mad()-Y  tBodyAcc-mad()-Z  ...  \\\n",
            "0            -0.925249         -0.674302  ...   \n",
            "1            -0.968401         -0.945823  ...   \n",
            "2            -0.970735         -0.963483  ...   \n",
            "3            -0.974471         -0.968897  ...   \n",
            "4            -0.965953         -0.977346  ...   \n",
            "...                ...               ...  ...   \n",
            "2942         -0.148775         -0.232057  ...   \n",
            "2943         -0.030036         -0.270237  ...   \n",
            "2944         -0.133257         -0.347029  ...   \n",
            "2945         -0.279610         -0.289477  ...   \n",
            "2946         -0.218295         -0.229933  ...   \n",
            "\n",
            "      fBodyBodyGyroJerkMag-skewness()  fBodyBodyGyroJerkMag-kurtosis()  \\\n",
            "0                           -0.330370                        -0.705974   \n",
            "1                           -0.121845                        -0.594944   \n",
            "2                           -0.190422                        -0.640736   \n",
            "3                           -0.344418                        -0.736124   \n",
            "4                           -0.534685                        -0.846595   \n",
            "...                               ...                              ...   \n",
            "2942                        -0.376278                        -0.750809   \n",
            "2943                        -0.320418                        -0.700274   \n",
            "2944                        -0.118854                        -0.467179   \n",
            "2945                        -0.205445                        -0.617737   \n",
            "2946                        -0.072237                        -0.436940   \n",
            "\n",
            "      angle(tBodyAccMean,gravity)  angle(tBodyAccJerkMean),gravityMean)  \\\n",
            "0                        0.006462                              0.162920   \n",
            "1                       -0.083495                              0.017500   \n",
            "2                       -0.034956                              0.202302   \n",
            "3                       -0.017067                              0.154438   \n",
            "4                       -0.002223                             -0.040046   \n",
            "...                           ...                                   ...   \n",
            "2942                    -0.337422                              0.346295   \n",
            "2943                    -0.736701                             -0.372889   \n",
            "2944                    -0.181560                              0.088574   \n",
            "2945                     0.444558                             -0.819188   \n",
            "2946                     0.598808                             -0.287951   \n",
            "\n",
            "      angle(tBodyGyroMean,gravityMean)  angle(tBodyGyroJerkMean,gravityMean)  \\\n",
            "0                            -0.825886                              0.271151   \n",
            "1                            -0.434375                              0.920593   \n",
            "2                             0.064103                              0.145068   \n",
            "3                             0.340134                              0.296407   \n",
            "4                             0.736715                             -0.118545   \n",
            "...                                ...                                   ...   \n",
            "2942                          0.884904                             -0.698885   \n",
            "2943                         -0.657421                              0.322549   \n",
            "2944                          0.696663                              0.363139   \n",
            "2945                          0.929294                             -0.008398   \n",
            "2946                          0.876030                             -0.024965   \n",
            "\n",
            "      angle(X,gravityMean)  angle(Y,gravityMean)  angle(Z,gravityMean)  \\\n",
            "0                -0.720009              0.276801             -0.057978   \n",
            "1                -0.698091              0.281343             -0.083898   \n",
            "2                -0.702771              0.280083             -0.079346   \n",
            "3                -0.698954              0.284114             -0.077108   \n",
            "4                -0.692245              0.290722             -0.073857   \n",
            "...                    ...                   ...                   ...   \n",
            "2942             -0.651732              0.274627              0.184784   \n",
            "2943             -0.655181              0.273578              0.182412   \n",
            "2944             -0.655357              0.274479              0.181184   \n",
            "2945             -0.659719              0.264782              0.187563   \n",
            "2946             -0.660080              0.263936              0.188103   \n",
            "\n",
            "      subject  \n",
            "0           2  \n",
            "1           2  \n",
            "2           2  \n",
            "3           2  \n",
            "4           2  \n",
            "...       ...  \n",
            "2942       24  \n",
            "2943       24  \n",
            "2944       24  \n",
            "2945       24  \n",
            "2946       24  \n",
            "\n",
            "[2947 rows x 563 columns]\n"
          ],
          "name": "stdout"
        }
      ]
    },
    {
      "cell_type": "code",
      "metadata": {
        "execution": {
          "iopub.execute_input": "2021-03-25T22:50:28.899835Z",
          "iopub.status.busy": "2021-03-25T22:50:28.899128Z",
          "iopub.status.idle": "2021-03-25T22:50:30.241943Z",
          "shell.execute_reply": "2021-03-25T22:50:30.241304Z"
        },
        "id": "EVLNmtMg1yX0",
        "papermill": {
          "duration": 2.834827,
          "end_time": "2021-03-25T22:50:30.242093",
          "exception": false,
          "start_time": "2021-03-25T22:50:27.407266",
          "status": "completed"
        },
        "tags": []
      },
      "source": [
        "#predict = np.zeros((1,6), dtype=int)\n",
        "#predict = predict.reshape(-1, 1, 6)\n",
        "test_data = test_data.drop(['id', 'subject'], axis=1)\n",
        "test_data = test_data.values.reshape(-1,1,561)\n",
        "predict = model.predict(test_data)"
      ],
      "execution_count": null,
      "outputs": []
    },
    {
      "cell_type": "code",
      "metadata": {
        "execution": {
          "iopub.execute_input": "2021-03-25T22:50:33.214821Z",
          "iopub.status.busy": "2021-03-25T22:50:33.213790Z",
          "iopub.status.idle": "2021-03-25T22:50:33.217353Z",
          "shell.execute_reply": "2021-03-25T22:50:33.217916Z"
        },
        "id": "6t-oYtYfLSg9",
        "papermill": {
          "duration": 1.501849,
          "end_time": "2021-03-25T22:50:33.218117",
          "exception": false,
          "start_time": "2021-03-25T22:50:31.716268",
          "status": "completed"
        },
        "tags": [],
        "outputId": "f3dbf6c0-ae7f-4ddd-d81f-552368dc7cd0"
      },
      "source": [
        "print(predict)"
      ],
      "execution_count": null,
      "outputs": [
        {
          "output_type": "stream",
          "text": [
            "[[[1.34576254e-07 5.75148853e-08 2.71771627e-09 1.15350213e-06\n",
            "   9.99998689e-01 4.54594282e-15]]\n",
            "\n",
            " [[1.31233563e-07 1.10103045e-07 2.88600255e-09 2.08134530e-04\n",
            "   9.99791682e-01 4.16029450e-12]]\n",
            "\n",
            " [[2.91028135e-09 2.11978907e-10 1.03078943e-11 1.41412102e-07\n",
            "   9.99999881e-01 2.75192526e-18]]\n",
            "\n",
            " ...\n",
            "\n",
            " [[7.12528347e-08 9.99996185e-01 3.57783256e-06 4.58981672e-11\n",
            "   6.20561451e-08 3.36533204e-17]]\n",
            "\n",
            " [[2.37084328e-06 9.99965549e-01 2.76556639e-05 1.01129345e-08\n",
            "   4.42822875e-06 6.19743311e-14]]\n",
            "\n",
            " [[1.23635819e-03 9.98434365e-01 3.13114375e-04 1.87070057e-08\n",
            "   1.62049582e-05 6.51900138e-14]]]\n"
          ],
          "name": "stdout"
        }
      ]
    },
    {
      "cell_type": "code",
      "metadata": {
        "execution": {
          "iopub.execute_input": "2021-03-25T22:50:36.208684Z",
          "iopub.status.busy": "2021-03-25T22:50:36.207684Z",
          "iopub.status.idle": "2021-03-25T22:50:36.212153Z",
          "shell.execute_reply": "2021-03-25T22:50:36.212681Z"
        },
        "id": "L6ZtKcKKA_jq",
        "papermill": {
          "duration": 1.532187,
          "end_time": "2021-03-25T22:50:36.212854",
          "exception": false,
          "start_time": "2021-03-25T22:50:34.680667",
          "status": "completed"
        },
        "tags": [],
        "outputId": "66b5a7ac-629c-4eb4-abcb-49ecd9caaaed"
      },
      "source": [
        "predict.shape"
      ],
      "execution_count": null,
      "outputs": [
        {
          "output_type": "execute_result",
          "data": {
            "text/plain": [
              "(2947, 1, 6)"
            ]
          },
          "metadata": {
            "tags": []
          },
          "execution_count": 27
        }
      ]
    },
    {
      "cell_type": "code",
      "metadata": {
        "execution": {
          "iopub.execute_input": "2021-03-25T22:50:39.192791Z",
          "iopub.status.busy": "2021-03-25T22:50:39.187505Z",
          "iopub.status.idle": "2021-03-25T22:50:39.272763Z",
          "shell.execute_reply": "2021-03-25T22:50:39.272062Z"
        },
        "id": "QIsIMfNsAEf7",
        "papermill": {
          "duration": 1.568151,
          "end_time": "2021-03-25T22:50:39.272911",
          "exception": false,
          "start_time": "2021-03-25T22:50:37.704760",
          "status": "completed"
        },
        "tags": []
      },
      "source": [
        "for i in range(2947):\n",
        "  max=0\n",
        "  for j in range(1):\n",
        "    for k in range(6):\n",
        "      if predict[i][j][k]>max:\n",
        "        max=predict[i][j][k]\n",
        "    for k in range(6):\n",
        "      if predict[i][j][k]==max:\n",
        "        predict[i][j][k]=1\n",
        "      else:\n",
        "        predict[i][j][k]=0"
      ],
      "execution_count": null,
      "outputs": []
    },
    {
      "cell_type": "code",
      "metadata": {
        "execution": {
          "iopub.execute_input": "2021-03-25T22:50:42.331326Z",
          "iopub.status.busy": "2021-03-25T22:50:42.305698Z",
          "iopub.status.idle": "2021-03-25T22:50:42.376241Z",
          "shell.execute_reply": "2021-03-25T22:50:42.375586Z"
        },
        "id": "0gosJkIVFZ4e",
        "papermill": {
          "duration": 1.618632,
          "end_time": "2021-03-25T22:50:42.376380",
          "exception": false,
          "start_time": "2021-03-25T22:50:40.757748",
          "status": "completed"
        },
        "tags": [],
        "outputId": "47e7d8fd-96dd-49a9-a0e7-6ce246ce08f7"
      },
      "source": [
        "results = np.zeros((2947,1), dtype=int)\n",
        "for i in range(2947):\n",
        "  max=0\n",
        "  for j in range(1):\n",
        "    for k in range(6):\n",
        "      if predict[i][j][k]==1:\n",
        "        results[i][0]=k+1\n",
        "print(results)"
      ],
      "execution_count": null,
      "outputs": [
        {
          "output_type": "stream",
          "text": [
            "[[5]\n",
            " [5]\n",
            " [5]\n",
            " ...\n",
            " [2]\n",
            " [2]\n",
            " [2]]\n"
          ],
          "name": "stdout"
        }
      ]
    },
    {
      "cell_type": "code",
      "metadata": {
        "execution": {
          "iopub.execute_input": "2021-03-25T22:50:45.390376Z",
          "iopub.status.busy": "2021-03-25T22:50:45.389763Z",
          "iopub.status.idle": "2021-03-25T22:50:45.827625Z",
          "shell.execute_reply": "2021-03-25T22:50:45.826997Z"
        },
        "id": "SgXzuS9T63ix",
        "papermill": {
          "duration": 1.917221,
          "end_time": "2021-03-25T22:50:45.827777",
          "exception": false,
          "start_time": "2021-03-25T22:50:43.910556",
          "status": "completed"
        },
        "tags": []
      },
      "source": [
        "dat = pd.read_csv('/kaggle/input/human-activity-recognition-with-rnn/test.csv')\n",
        "submission = pd.DataFrame(dat, columns = ['id'])\n",
        "res = pd.DataFrame(results)\n",
        "submission['activity'] = res"
      ],
      "execution_count": null,
      "outputs": []
    },
    {
      "cell_type": "code",
      "metadata": {
        "execution": {
          "iopub.execute_input": "2021-03-25T22:50:48.785152Z",
          "iopub.status.busy": "2021-03-25T22:50:48.781792Z",
          "iopub.status.idle": "2021-03-25T22:50:48.788784Z",
          "shell.execute_reply": "2021-03-25T22:50:48.789302Z"
        },
        "id": "cfXqbjz_GtmY",
        "papermill": {
          "duration": 1.491986,
          "end_time": "2021-03-25T22:50:48.789502",
          "exception": false,
          "start_time": "2021-03-25T22:50:47.297516",
          "status": "completed"
        },
        "tags": [],
        "outputId": "4afd54f1-40c1-49b0-f611-cd6ba0ef31b7"
      },
      "source": [
        "print(submission)"
      ],
      "execution_count": null,
      "outputs": [
        {
          "output_type": "stream",
          "text": [
            "        id  activity\n",
            "0        0         5\n",
            "1        1         5\n",
            "2        2         5\n",
            "3        3         5\n",
            "4        4         5\n",
            "...    ...       ...\n",
            "2942  2942         2\n",
            "2943  2943         2\n",
            "2944  2944         2\n",
            "2945  2945         2\n",
            "2946  2946         2\n",
            "\n",
            "[2947 rows x 2 columns]\n"
          ],
          "name": "stdout"
        }
      ]
    },
    {
      "cell_type": "code",
      "metadata": {
        "execution": {
          "iopub.execute_input": "2021-03-25T22:50:51.805919Z",
          "iopub.status.busy": "2021-03-25T22:50:51.801485Z",
          "iopub.status.idle": "2021-03-25T22:50:51.811698Z",
          "shell.execute_reply": "2021-03-25T22:50:51.811084Z"
        },
        "id": "N5zpNyDfLErp",
        "papermill": {
          "duration": 1.495856,
          "end_time": "2021-03-25T22:50:51.811850",
          "exception": false,
          "start_time": "2021-03-25T22:50:50.315994",
          "status": "completed"
        },
        "tags": []
      },
      "source": [
        "submission.to_csv('submission.csv', index=False)"
      ],
      "execution_count": null,
      "outputs": []
    }
  ]
}